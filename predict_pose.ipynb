{
 "cells": [
  {
   "cell_type": "code",
   "execution_count": 8,
   "metadata": {},
   "outputs": [],
   "source": [
    "import atomium\n",
    "import math\n",
    "import mdtraj as md\n",
    "import nglview\n",
    "import pybel as bel\n",
    "import os\n",
    "from tqdm import tqdm\n",
    "from rmsd import *\n",
    "import numpy as np\n",
    "from pmapper.pharmacophore import Pharmacophore as Pharma\n",
    "from rdkit import Chem\n",
    "from rdkit.Chem import AllChem"
   ]
  },
  {
   "cell_type": "code",
   "execution_count": 9,
   "metadata": {},
   "outputs": [],
   "source": [
    "input_folder = \"SI/DockingInput/Ligands_pdb/\"\n",
    "output_folder = \"SI/DockingResults/Interface/LigandsOut_0/Ligands_pdb/\""
   ]
  },
  {
   "cell_type": "code",
   "execution_count": 10,
   "metadata": {},
   "outputs": [],
   "source": [
    "def trans_rot(P,Q):\n",
    "    \n",
    "    p = P.mean(axis = 0)\n",
    "    q = Q.mean(axis = 0)\n",
    "    T = q-p   #Translation vector\n",
    "    P += T\n",
    "    \n",
    "    R = kabsch(P,Q)   # Rotation matrix\n",
    "    return np.concatenate([T, np.ndarray.flatten(R)])\n",
    "    "
   ]
  },
  {
   "cell_type": "code",
   "execution_count": 11,
   "metadata": {},
   "outputs": [],
   "source": [
    "def get_XY():\n",
    "    \n",
    "    X = []\n",
    "    Y = []\n",
    "    \n",
    "    for file in tqdm(os.listdir(input_folder)):\n",
    "        try:\n",
    "            Initial_molecule = Chem.MolFromPDBFile(input_folder+file)\n",
    "            Final_molecule = Chem.MolFromPDBFile(output_folder+file)\n",
    "            \n",
    "        except:\n",
    "            continue\n",
    "        \n",
    "        Chem.rdMolTransforms.CanonicalizeMol(Initial_molecule)   # Aligns principal axes with x, y, z\n",
    "        Initial_coords = Initial_molecule.GetConformers()[0].GetPositions()\n",
    "        \n",
    "        Final_coords = Final_molecule.GetConformers()[0].GetPositions()\n",
    "        \n",
    "        p = Pharma()\n",
    "        p.load_from_mol(Initial_molecule)\n",
    "        bitset = p.get_fp(min_features=4, max_features=4, nbits=2048, activate_bits=2) # Can change these parameters to possibly affect accuracy\n",
    "        \n",
    "        x = [False]*2049\n",
    "        for i in bitset: x[i] = True\n",
    "            \n",
    "        X.append(x)  \n",
    "        Y.append(trans_rot(Initial_coords, Final_coords))\n",
    "        \n",
    "    return (X,Y)\n",
    "    "
   ]
  },
  {
   "cell_type": "code",
   "execution_count": 12,
   "metadata": {},
   "outputs": [],
   "source": [
    "def main():\n",
    "    X,Y = get_XY()\n",
    "    print(np.array(X))\n",
    "    print(np.array(Y))"
   ]
  },
  {
   "cell_type": "code",
   "execution_count": 13,
   "metadata": {},
   "outputs": [
    {
     "name": "stderr",
     "output_type": "stream",
     "text": [
      "100%|██████████| 122/122 [00:05<00:00, 21.87it/s]"
     ]
    },
    {
     "name": "stdout",
     "output_type": "stream",
     "text": [
      "[[False False False ... False False False]\n",
      " [False False False ... False False False]\n",
      " [ True False False ... False  True False]\n",
      " ...\n",
      " [False False False ... False False False]\n",
      " [False False False ... False  True False]\n",
      " [False False False ... False False False]]\n",
      "[[-4.5109     -2.5648      3.1852     ...  0.05018715 -0.36095939\n",
      "   0.93123014]\n",
      " [-4.98614286 -3.57992857  2.93885714 ... -0.77497071 -0.21146856\n",
      "  -0.59556817]\n",
      " [-4.45963158 -1.40357895  2.27921053 ... -0.24386837  0.38187985\n",
      "   0.89145723]\n",
      " ...\n",
      " [-4.66710526 -3.06563158  2.57263158 ... -0.90571724  0.31700376\n",
      "  -0.28139811]\n",
      " [-4.70189474 -3.31536842  3.19057895 ... -0.59493707  0.41177816\n",
      "   0.69028156]\n",
      " [-4.5474     -3.0524      2.4022     ...  0.01610437 -0.13075713\n",
      "   0.99128362]]\n"
     ]
    },
    {
     "name": "stderr",
     "output_type": "stream",
     "text": [
      "\n"
     ]
    }
   ],
   "source": [
    "main()"
   ]
  },
  {
   "cell_type": "code",
   "execution_count": null,
   "metadata": {},
   "outputs": [],
   "source": []
  }
 ],
 "metadata": {
  "kernelspec": {
   "display_name": "Python [conda env:ml_project] *",
   "language": "python",
   "name": "conda-env-ml_project-py"
  },
  "language_info": {
   "codemirror_mode": {
    "name": "ipython",
    "version": 3
   },
   "file_extension": ".py",
   "mimetype": "text/x-python",
   "name": "python",
   "nbconvert_exporter": "python",
   "pygments_lexer": "ipython3",
   "version": "3.6.10"
  }
 },
 "nbformat": 4,
 "nbformat_minor": 4
}

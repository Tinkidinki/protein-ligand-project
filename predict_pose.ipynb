from sklearn.svm import SVR
from sklearn.metrics import r2_score
from sklearn.neural_network import MLPRegressor
from sklearn.ensemble import BaggingRegressor
import numpy as np

# X_mod = np.concatenate((X_All[:,:2257], X_All[:,2261:]), axis=1)

def svm(X_mod, Y):
    Y = np.array(Y)
    train_len = int(0.9*len(X_mod))
    score = 0
    rmsd = 0
    clf = BaggingRegressor(base_estimator=SVR(C=10), n_estimators=10, random_state=0, n_jobs=-1)
    for i in range(Y.shape[1]):
        Y_param = Y[:,i]
        clf.fit(X_mod[:train_len], Y_param[:train_len])

        print ("Trained for ", i)
        score_i = clf.score(X_mod[train_len:], Y_param[:train_len])
        label = clf.predict(X_mod[train_len:])
        
        rmsd_i = np.mean(((label - Y_param[train_len:])*Y_param[train_len:].var())**2)**(0.5)
        score_i = r2_score(Y_param[train_len:], label)
        print ("R2-score: ", score_i)
        score += score_i
        rmsd += rmsd_i
    
    print (score/Y.shape[1])
    return float(score/Y.shape[1]), float(rmsd/Y.shape[1])

r2_score, rmsd = svm(X_All, Y)
r2_score, rmsd

r2_scored, rmsdd = svm(X_d, Y)
r2_scored, rmsdd

r2_scorec, rmsdc = svm(X_c, Y)
r2_scorec, rmsdc

r2_scoref, rmsdf = svm(X_f, Y)
r2_scoref, rmsdf

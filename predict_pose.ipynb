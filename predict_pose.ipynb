{
 "cells": [
  {
   "cell_type": "code",
   "execution_count": 41,
   "metadata": {},
   "outputs": [],
   "source": [
    "import atomium\n",
    "import math\n",
    "import mdtraj as md\n",
    "import nglview\n",
    "import pybel as bel\n",
    "import os\n",
    "from tqdm import tqdm\n",
    "from rmsd import *\n",
    "import numpy as np\n",
    "from pmapper.pharmacophore import Pharmacophore as Pharma\n",
    "from scipy.spatial.transform import Rotation as Rotate\n",
    "from rdkit import Chem\n",
    "from rdkit.Chem import AllChem\n",
    "import deepchem as dc"
   ]
  },
  {
   "cell_type": "code",
   "execution_count": 42,
   "metadata": {},
   "outputs": [],
   "source": [
    "input_folder = \"SI/DockingInput/Ligands_pdb/\"\n",
    "output_folder = \"SI/DockingResults/Interface/LigandsOut_0/Ligands_pdb/\""
   ]
  },
  {
   "cell_type": "code",
   "execution_count": 43,
   "metadata": {},
   "outputs": [],
   "source": [
    "def trans_rot(P,Q):\n",
    "    \n",
    "    p = P.mean(axis = 0)\n",
    "    q = Q.mean(axis = 0)\n",
    "    T = q-p   #Translation vector\n",
    "    P += T\n",
    "    \n",
    "    R = kabsch(P,Q)   # Rotation matrix\n",
    "    R = Rotate.from_matrix(R).as_rotvec()\n",
    "    return np.concatenate([T, np.ndarray.flatten(R)])\n",
    "    "
   ]
  },
  {
   "cell_type": "code",
   "execution_count": 47,
   "metadata": {},
   "outputs": [],
   "source": [
    "def get_XY():\n",
    "    \n",
    "    X_fingerprints = []\n",
    "    X_coulomb = []\n",
    "    X_desc = []\n",
    "    Y = []\n",
    "    X_All = []\n",
    "    \n",
    "    for file in tqdm(os.listdir(input_folder)):\n",
    "        try:\n",
    "            Initial_molecule = Chem.MolFromPDBFile(input_folder+file)\n",
    "            Final_molecule = Chem.MolFromPDBFile(output_folder+file)\n",
    "        \n",
    "            Chem.rdMolTransforms.CanonicalizeMol(Initial_molecule)   # Aligns principal axes with x, y, z\n",
    "            Initial_coords = Initial_molecule.GetConformers()[0].GetPositions()\n",
    "\n",
    "            Final_coords = Final_molecule.GetConformers()[0].GetPositions()\n",
    "\n",
    "            fing = dc.feat.CircularFingerprint()\n",
    "            x_fingerprint = fing.featurize([Initial_molecule]).flatten()\n",
    "            X_fingerprints.append(x_fingerprint)\n",
    "\n",
    "            coulomb_eig = dc.feat.CoulombMatrixEig(max_atoms=200)\n",
    "            x_coulomb = coulomb_eig._featurize(Initial_molecule).flatten()\n",
    "            X_coulomb.append(x_coulomb)\n",
    "\n",
    "            desc = dc.feat.RDKitDescriptors()\n",
    "            x_desc = desc.featurize([Initial_molecule]).flatten()\n",
    "            X_desc.append(x_desc)\n",
    "        \n",
    "                \n",
    "        except:\n",
    "            continue\n",
    "        \n",
    "        X_All.append(np.concatenate([x_fingerprint, x_coulomb, x_desc]))\n",
    "        Y.append(trans_rot(Initial_coords, Final_coords))\n",
    "        \n",
    "    return (X_fingerprints, X_coulomb, X_desc, X_All, Y)\n",
    "    "
   ]
  },
  {
   "cell_type": "code",
   "execution_count": 48,
   "metadata": {},
   "outputs": [],
   "source": [
    "def main():\n",
    "    X_f, X_c, X_d, X_All, Y= get_XY()\n",
    "    print(np.array(X_f))\n",
    "    print(np.array(X_c))\n",
    "    print(np.array(X_d))\n",
    "    print(np.array(X_All))\n",
    "    print(np.array(Y))"
   ]
  },
  {
   "cell_type": "code",
   "execution_count": null,
   "metadata": {
    "scrolled": true
   },
   "outputs": [
    {
     "name": "stderr",
     "output_type": "stream",
     "text": [
      "  0%|          | 0/9121 [00:00<?, ?it/s]RDKit ERROR: [23:05:03] Explicit valence for atom # 42 O, 3, is greater than permitted\n",
      "  1%|          | 66/9121 [00:04<10:33, 14.28it/s]RDKit ERROR: [23:05:07] Explicit valence for atom # 20 Cl, 2, is greater than permitted\n",
      "  1%|          | 91/9121 [00:05<09:06, 16.52it/s]RDKit ERROR: [23:05:08] Explicit valence for atom # 25 O, 3, is greater than permitted\n",
      "  1%|          | 108/9121 [00:06<09:23, 16.00it/s]RDKit ERROR: [23:05:09] Explicit valence for atom # 18 C, 5, is greater than permitted\n",
      "RDKit ERROR: [23:05:09] Explicit valence for atom # 18 C, 5, is greater than permitted\n",
      "  2%|▏         | 146/9121 [00:08<10:17, 14.52it/s]RDKit ERROR: [23:05:11] Explicit valence for atom # 6 C, 5, is greater than permitted\n",
      "  2%|▏         | 224/9121 [00:13<08:17, 17.90it/s]RDKit ERROR: [23:05:16] Explicit valence for atom # 39 O, 3, is greater than permitted\n",
      "  5%|▍         | 419/9121 [00:24<09:33, 15.17it/s]RDKit ERROR: [23:05:27] Explicit valence for atom # 39 O, 3, is greater than permitted\n",
      "  6%|▌         | 512/9121 [00:30<08:35, 16.69it/s]RDKit ERROR: [23:05:33] Explicit valence for atom # 19 Cl, 2, is greater than permitted\n",
      "  6%|▌         | 526/9121 [00:31<09:01, 15.87it/s]RDKit ERROR: [23:05:34] Explicit valence for atom # 30 O, 3, is greater than permitted\n",
      "  7%|▋         | 611/9121 [00:36<09:58, 14.23it/s]RDKit ERROR: [23:05:40] Explicit valence for atom # 20 O, 3, is greater than permitted\n",
      "  7%|▋         | 621/9121 [00:37<10:14, 13.83it/s]RDKit ERROR: [23:05:40] Explicit valence for atom # 42 O, 3, is greater than permitted\n",
      "  7%|▋         | 629/9121 [00:38<10:37, 13.32it/s]RDKit ERROR: [23:05:41] Explicit valence for atom # 44 O, 3, is greater than permitted\n",
      "  7%|▋         | 641/9121 [00:38<11:09, 12.67it/s]RDKit ERROR: [23:05:42] Explicit valence for atom # 15 O, 3, is greater than permitted\n",
      "  7%|▋         | 651/9121 [00:39<11:38, 12.13it/s]RDKit ERROR: [23:05:42] Explicit valence for atom # 6 O, 3, is greater than permitted\n",
      "  7%|▋         | 661/9121 [00:40<10:21, 13.61it/s]RDKit ERROR: [23:05:43] Explicit valence for atom # 44 O, 3, is greater than permitted\n",
      "  9%|▊         | 779/9121 [00:48<11:02, 12.58it/s]RDKit ERROR: [23:05:51] Explicit valence for atom # 5 O, 4, is greater than permitted\n",
      " 10%|█         | 918/9121 [00:57<07:33, 18.10it/s]RDKit ERROR: [23:06:00] Explicit valence for atom # 15 C, 5, is greater than permitted\n",
      " 10%|█         | 942/9121 [00:59<09:42, 14.04it/s]RDKit ERROR: [23:06:02] Explicit valence for atom # 34 O, 3, is greater than permitted\n",
      " 11%|█         | 968/9121 [01:00<10:44, 12.65it/s]RDKit ERROR: [23:06:03] Explicit valence for atom # 20 O, 4, is greater than permitted\n",
      " 11%|█         | 999/9121 [01:02<09:54, 13.65it/s]RDKit ERROR: [23:06:05] Explicit valence for atom # 46 O, 4, is greater than permitted\n",
      " 12%|█▏        | 1072/9121 [01:07<07:02, 19.06it/s]RDKit ERROR: [23:06:10] Explicit valence for atom # 44 O, 3, is greater than permitted\n",
      " 12%|█▏        | 1113/9121 [01:09<08:50, 15.09it/s]RDKit ERROR: [23:06:12] Explicit valence for atom # 48 O, 3, is greater than permitted\n",
      " 12%|█▏        | 1118/9121 [01:09<08:42, 15.32it/s]RDKit ERROR: [23:06:12] Explicit valence for atom # 25 O, 3, is greater than permitted\n",
      " 13%|█▎        | 1150/9121 [01:11<11:28, 11.58it/s]RDKit ERROR: [23:06:15] Explicit valence for atom # 47 O, 3, is greater than permitted\n",
      " 13%|█▎        | 1203/9121 [01:15<09:33, 13.80it/s]RDKit ERROR: [23:06:18] Explicit valence for atom # 42 O, 4, is greater than permitted\n",
      " 14%|█▍        | 1269/9121 [01:20<08:57, 14.60it/s]RDKit ERROR: [23:06:23] Explicit valence for atom # 5 O, 3, is greater than permitted\n",
      " 14%|█▍        | 1301/9121 [01:21<07:10, 18.17it/s]RDKit ERROR: [23:06:25] Explicit valence for atom # 27 O, 3, is greater than permitted\n",
      " 14%|█▍        | 1306/9121 [01:22<07:03, 18.46it/s]RDKit ERROR: [23:06:25] Explicit valence for atom # 26 C, 5, is greater than permitted\n",
      " 15%|█▍        | 1336/9121 [01:24<07:57, 16.29it/s]RDKit ERROR: [23:06:27] Explicit valence for atom # 5 O, 3, is greater than permitted\n",
      " 15%|█▌        | 1395/9121 [01:27<07:38, 16.83it/s]RDKit ERROR: [23:06:30] Explicit valence for atom # 33 C, 6, is greater than permitted\n",
      " 16%|█▌        | 1473/9121 [01:32<10:35, 12.03it/s]RDKit ERROR: [23:06:35] Explicit valence for atom # 42 O, 3, is greater than permitted\n",
      " 16%|█▌        | 1479/9121 [01:33<09:08, 13.93it/s]RDKit ERROR: [23:06:36] Explicit valence for atom # 61 O, 3, is greater than permitted\n",
      " 17%|█▋        | 1510/9121 [01:35<13:09,  9.63it/s]"
     ]
    }
   ],
   "source": [
    "main()"
   ]
  },
  {
   "cell_type": "code",
   "execution_count": null,
   "metadata": {},
   "outputs": [],
   "source": []
  }
 ],
 "metadata": {
  "kernelspec": {
   "display_name": "Python [conda env:ml_project] *",
   "language": "python",
   "name": "conda-env-ml_project-py"
  },
  "language_info": {
   "codemirror_mode": {
    "name": "ipython",
    "version": 3
   },
   "file_extension": ".py",
   "mimetype": "text/x-python",
   "name": "python",
   "nbconvert_exporter": "python",
   "pygments_lexer": "ipython3",
   "version": "3.6.10"
  }
 },
 "nbformat": 4,
 "nbformat_minor": 4
}

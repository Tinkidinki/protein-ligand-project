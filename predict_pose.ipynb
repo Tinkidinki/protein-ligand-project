{
 "cells": [
  {
   "cell_type": "code",
   "execution_count": 1,
   "metadata": {},
   "outputs": [
    {
     "data": {
      "application/vnd.jupyter.widget-view+json": {
       "model_id": "3357768e2a4e40018b55af7e0a49a53c",
       "version_major": 2,
       "version_minor": 0
      },
      "text/plain": [
       "_ColormakerRegistry()"
      ]
     },
     "metadata": {},
     "output_type": "display_data"
    }
   ],
   "source": [
    "import atomium\n",
    "import math\n",
    "import mdtraj as md\n",
    "import nglview\n",
    "import pybel as bel\n",
    "import os\n",
    "from tqdm import tqdm\n",
    "from rmsd import *\n",
    "import numpy as np"
   ]
  },
  {
   "cell_type": "code",
   "execution_count": 3,
   "metadata": {},
   "outputs": [],
   "source": [
    "def trans_rot(P,Q):\n",
    "    \n",
    "    p = P.mean(axis = 0)\n",
    "    q = Q.mean(axis = 0)\n",
    "    T = q-p\n",
    "    P += T\n",
    "    \n",
    "    R = kabsch(P,Q)\n",
    "    return np.concatenate(T, np.ndarray.flatten(R))\n",
    "    "
   ]
  },
  {
   "cell_type": "code",
   "execution_count": null,
   "metadata": {},
   "outputs": [],
   "source": []
  }
 ],
 "metadata": {
  "kernelspec": {
   "display_name": "Python [conda env:ml_project] *",
   "language": "python",
   "name": "conda-env-ml_project-py"
  },
  "language_info": {
   "codemirror_mode": {
    "name": "ipython",
    "version": 3
   },
   "file_extension": ".py",
   "mimetype": "text/x-python",
   "name": "python",
   "nbconvert_exporter": "python",
   "pygments_lexer": "ipython3",
   "version": "3.6.10"
  }
 },
 "nbformat": 4,
 "nbformat_minor": 4
}

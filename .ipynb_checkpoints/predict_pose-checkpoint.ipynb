{
 "cells": [
  {
   "cell_type": "code",
   "execution_count": 8,
   "metadata": {},
   "outputs": [],
   "source": [
    "import atomium\n",
    "import math\n",
    "import mdtraj as md\n",
    "import nglview\n",
    "import pybel as bel\n",
    "import os\n",
    "from tqdm import tqdm\n",
    "from rmsd import *\n",
    "import numpy as np\n",
    "from pmapper.pharmacophore import Pharmacophore as P\n",
    "from rdkit import Chem\n",
    "from rdkit.Chem import AllChem"
   ]
  },
  {
   "cell_type": "code",
   "execution_count": 6,
   "metadata": {},
   "outputs": [],
   "source": [
    "input_folder = \"SI/DockingInput/Ligands_pdb/\"\n",
    "output_folder = \"SI/DockingResults/Interface/LigandsOut_0/Ligands_pdb/\""
   ]
  },
  {
   "cell_type": "code",
   "execution_count": 28,
   "metadata": {},
   "outputs": [],
   "source": [
    "def trans_rot(P,Q):\n",
    "    \n",
    "    p = P.mean(axis = 0)\n",
    "    q = Q.mean(axis = 0)\n",
    "    T = q-p\n",
    "    P += T\n",
    "    \n",
    "    R = kabsch(P,Q)\n",
    "    return np.concatenate([T, np.ndarray.flatten(R)])\n",
    "    "
   ]
  },
  {
   "cell_type": "code",
   "execution_count": 38,
   "metadata": {},
   "outputs": [],
   "source": [
    "def get_XY():\n",
    "    \n",
    "    X = []\n",
    "    Y = []\n",
    "    \n",
    "    for file in tqdm(os.listdir(input_folder)):\n",
    "        try:\n",
    "            Initial_coords = md.load_pdb(input_folder+file).xyz[0]\n",
    "            Final_coords = md.load_pdb(output_folder+file, frame = 0).xyz[0]\n",
    "            mol = Chem.MolFromPDBFile(input_folder+file)\n",
    "            p = P()\n",
    "            p.load_from_mol(mol)\n",
    "        except:\n",
    "            continue\n",
    "        \n",
    "        b = p.get_fp(min_features=4, max_features=4, nbits=2048, activate_bits=2) #Can change parameters\n",
    "        \n",
    "        x = [False]*2049\n",
    "        for i in b: x[i] = True\n",
    "        X.append(x)  \n",
    "        Y.append(trans_rot(Initial_coords, Final_coords))\n",
    "        \n",
    "    return (X,Y)\n",
    "    "
   ]
  },
  {
   "cell_type": "code",
   "execution_count": 39,
   "metadata": {},
   "outputs": [],
   "source": [
    "def main():\n",
    "    X,Y = get_XY()"
   ]
  },
  {
   "cell_type": "code",
   "execution_count": null,
   "metadata": {},
   "outputs": [
    {
     "name": "stderr",
     "output_type": "stream",
     "text": [
      "\n",
      "  0%|          | 0/9121 [00:00<?, ?it/s]\u001b[A\n",
      "  0%|          | 1/9121 [00:04<11:40:49,  4.61s/it]\u001b[A\n",
      "  0%|          | 2/9121 [00:04<8:27:58,  3.34s/it] \u001b[A\n",
      "  0%|          | 3/9121 [00:05<6:02:15,  2.38s/it]\u001b[A\n",
      "  0%|          | 4/9121 [00:05<4:29:28,  1.77s/it]\u001b[A\n",
      "  0%|          | 6/9121 [00:05<3:13:55,  1.28s/it]\u001b[A\n",
      "  0%|          | 10/9121 [00:06<2:18:53,  1.09it/s]\u001b[A\n",
      "  0%|          | 11/9121 [00:06<1:47:31,  1.41it/s]\u001b[A\n",
      "  0%|          | 12/9121 [00:06<1:40:53,  1.50it/s]\u001b[A\n",
      "  0%|          | 16/9121 [00:07<1:14:10,  2.05it/s]\u001b[A\n",
      "  0%|          | 17/9121 [00:07<1:10:05,  2.16it/s]\u001b[A\n",
      "  0%|          | 19/9121 [00:08<1:02:25,  2.43it/s]\u001b[A\n",
      "  0%|          | 20/9121 [00:26<14:57:58,  5.92s/it]\u001b[A\n",
      "  0%|          | 23/9121 [00:26<10:30:11,  4.16s/it]\u001b[A\n",
      "  0%|          | 24/9121 [00:27<7:27:10,  2.95s/it] \u001b[A\n",
      "  0%|          | 26/9121 [00:27<5:17:17,  2.09s/it]\u001b[A\n",
      "  0%|          | 27/9121 [00:28<4:16:54,  1.70s/it]\u001b[A\n",
      "  0%|          | 29/9121 [00:28<3:15:05,  1.29s/it]\u001b[A\n",
      "  0%|          | 30/9121 [00:53<21:15:18,  8.42s/it]\u001b[A"
     ]
    }
   ],
   "source": [
    "main()"
   ]
  },
  {
   "cell_type": "code",
   "execution_count": null,
   "metadata": {},
   "outputs": [],
   "source": []
  }
 ],
 "metadata": {
  "kernelspec": {
   "display_name": "Python [conda env:ml_project] *",
   "language": "python",
   "name": "conda-env-ml_project-py"
  },
  "language_info": {
   "codemirror_mode": {
    "name": "ipython",
    "version": 3
   },
   "file_extension": ".py",
   "mimetype": "text/x-python",
   "name": "python",
   "nbconvert_exporter": "python",
   "pygments_lexer": "ipython3",
   "version": "3.6.10"
  }
 },
 "nbformat": 4,
 "nbformat_minor": 4
}

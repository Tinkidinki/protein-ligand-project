{
 "cells": [
  {
   "cell_type": "code",
   "execution_count": 76,
   "metadata": {},
   "outputs": [],
   "source": [
    "import atomium\n",
    "import math\n",
    "import mdtraj as md\n",
    "import nglview\n",
    "import pybel as bel\n",
    "import os\n",
    "from tqdm import tqdm\n",
    "from rmsd import *\n",
    "import numpy as np\n",
    "import deepchem as dc\n",
    "from deepchem.utils.rdkit_util import *\n",
    "from pmapper.pharmacophore import Pharmacophore as P\n",
    "from rdkit import Chem\n",
    "from rdkit.Chem import AllChem\n",
    "from pprint import pprint"
   ]
  },
  {
   "cell_type": "code",
   "execution_count": 6,
   "metadata": {},
   "outputs": [],
   "source": [
    "folder = \"SI/\""
   ]
  },
  {
   "cell_type": "code",
   "execution_count": 7,
   "metadata": {},
   "outputs": [],
   "source": [
    "pdb = atomium.open(folder+\"Lig100.pdb\")"
   ]
  },
  {
   "cell_type": "code",
   "execution_count": 8,
   "metadata": {},
   "outputs": [
    {
     "data": {
      "text/plain": [
       "<.pdb File>"
      ]
     },
     "execution_count": 8,
     "metadata": {},
     "output_type": "execute_result"
    }
   ],
   "source": [
    "pdb"
   ]
  },
  {
   "cell_type": "code",
   "execution_count": 9,
   "metadata": {},
   "outputs": [],
   "source": [
    "pdb.title\n"
   ]
  },
  {
   "cell_type": "code",
   "execution_count": 10,
   "metadata": {},
   "outputs": [
    {
     "data": {
      "text/plain": [
       "<Model (0 chains, 1 ligand)>"
      ]
     },
     "execution_count": 10,
     "metadata": {},
     "output_type": "execute_result"
    }
   ],
   "source": [
    "pdb.model"
   ]
  },
  {
   "cell_type": "code",
   "execution_count": 11,
   "metadata": {},
   "outputs": [
    {
     "data": {
      "text/plain": [
       "array([ 0.80661618, -2.81844187, -0.29879208])"
      ]
     },
     "execution_count": 11,
     "metadata": {},
     "output_type": "execute_result"
    }
   ],
   "source": [
    "pdb.model.center_of_mass"
   ]
  },
  {
   "cell_type": "code",
   "execution_count": 12,
   "metadata": {},
   "outputs": [
    {
     "data": {
      "text/plain": [
       "<bound method getone.<locals>.structure of <Model (0 chains, 1 ligand)>>"
      ]
     },
     "execution_count": 12,
     "metadata": {},
     "output_type": "execute_result"
    }
   ],
   "source": [
    "pdb.model.ligand"
   ]
  },
  {
   "cell_type": "code",
   "execution_count": 13,
   "metadata": {},
   "outputs": [
    {
     "data": {
      "text/plain": [
       "{<Ligand <1> (d.0)>}"
      ]
     },
     "execution_count": 13,
     "metadata": {},
     "output_type": "execute_result"
    }
   ],
   "source": [
    "pdb.model.ligands()"
   ]
  },
  {
   "cell_type": "code",
   "execution_count": 17,
   "metadata": {},
   "outputs": [
    {
     "data": {
      "text/plain": [
       "{<Atom 1 (C)>,\n",
       " <Atom 2 (C)>,\n",
       " <Atom 3 (C)>,\n",
       " <Atom 4 (C)>,\n",
       " <Atom 5 (N)>,\n",
       " <Atom 6 (N)>,\n",
       " <Atom 7 (S)>,\n",
       " <Atom 8 (H)>}"
      ]
     },
     "execution_count": 17,
     "metadata": {},
     "output_type": "execute_result"
    }
   ],
   "source": [
    "pdb.model.ligand(name='<1>').atoms()"
   ]
  },
  {
   "cell_type": "code",
   "execution_count": 18,
   "metadata": {},
   "outputs": [],
   "source": [
    "pdb.model.ligand(name='<1>').translate(10,10,15)"
   ]
  },
  {
   "cell_type": "code",
   "execution_count": 22,
   "metadata": {},
   "outputs": [],
   "source": [
    "pdb.model.ligand(name='<1>').rotate(math.pi / 2, 'x')"
   ]
  },
  {
   "cell_type": "code",
   "execution_count": 24,
   "metadata": {},
   "outputs": [],
   "source": [
    "old = md.load(folder+\"Lig100.pdb\")"
   ]
  },
  {
   "cell_type": "code",
   "execution_count": 26,
   "metadata": {},
   "outputs": [],
   "source": [
    "pdb.model.save(folder+\"Lig100new.pdb\")"
   ]
  },
  {
   "cell_type": "code",
   "execution_count": 27,
   "metadata": {},
   "outputs": [],
   "source": [
    "new = md.load(folder+\"Lig100new.pdb\")"
   ]
  },
  {
   "cell_type": "code",
   "execution_count": 30,
   "metadata": {},
   "outputs": [
    {
     "data": {
      "application/vnd.jupyter.widget-view+json": {
       "model_id": "57c2d00154d7417f91b4feb37ab07f21",
       "version_major": 2,
       "version_minor": 0
      },
      "text/plain": [
       "NGLWidget()"
      ]
     },
     "metadata": {},
     "output_type": "display_data"
    }
   ],
   "source": [
    "nglview.show_mdtraj(old)"
   ]
  },
  {
   "cell_type": "code",
   "execution_count": 31,
   "metadata": {},
   "outputs": [
    {
     "data": {
      "application/vnd.jupyter.widget-view+json": {
       "model_id": "948002c32d1f44638f86460d179ca519",
       "version_major": 2,
       "version_minor": 0
      },
      "text/plain": [
       "NGLWidget()"
      ]
     },
     "metadata": {},
     "output_type": "display_data"
    }
   ],
   "source": [
    "nglview.show_mdtraj(new)"
   ]
  },
  {
   "cell_type": "code",
   "execution_count": 3,
   "metadata": {},
   "outputs": [],
   "source": [
    "mymol = bel.readstring(\"smi\", \"CCCC\")"
   ]
  },
  {
   "cell_type": "code",
   "execution_count": 4,
   "metadata": {},
   "outputs": [
    {
     "data": {
      "text/plain": [
       "58.1222"
      ]
     },
     "execution_count": 4,
     "metadata": {},
     "output_type": "execute_result"
    }
   ],
   "source": [
    "mymol.molwt"
   ]
  },
  {
   "cell_type": "code",
   "execution_count": 5,
   "metadata": {},
   "outputs": [
    {
     "data": {
      "text/plain": [
       "['OBMol',\n",
       " '__class__',\n",
       " '__delattr__',\n",
       " '__dict__',\n",
       " '__dir__',\n",
       " '__doc__',\n",
       " '__eq__',\n",
       " '__format__',\n",
       " '__ge__',\n",
       " '__getattribute__',\n",
       " '__gt__',\n",
       " '__hash__',\n",
       " '__init__',\n",
       " '__init_subclass__',\n",
       " '__iter__',\n",
       " '__le__',\n",
       " '__lt__',\n",
       " '__module__',\n",
       " '__ne__',\n",
       " '__new__',\n",
       " '__reduce__',\n",
       " '__reduce_ex__',\n",
       " '__repr__',\n",
       " '__setattr__',\n",
       " '__sizeof__',\n",
       " '__str__',\n",
       " '__subclasshook__',\n",
       " '__weakref__',\n",
       " '_cinfony',\n",
       " '_exchange',\n",
       " '_gettitle',\n",
       " '_repr_html_',\n",
       " '_repr_svg_',\n",
       " '_settitle',\n",
       " 'addh',\n",
       " 'atoms',\n",
       " 'calccharges',\n",
       " 'calcdesc',\n",
       " 'calcfp',\n",
       " 'charge',\n",
       " 'clone',\n",
       " 'conformers',\n",
       " 'convertdbonds',\n",
       " 'data',\n",
       " 'dim',\n",
       " 'draw',\n",
       " 'energy',\n",
       " 'exactmass',\n",
       " 'formula',\n",
       " 'localopt',\n",
       " 'make2D',\n",
       " 'make3D',\n",
       " 'molwt',\n",
       " 'removeh',\n",
       " 'residues',\n",
       " 'spin',\n",
       " 'sssr',\n",
       " 'title',\n",
       " 'unitcell',\n",
       " 'write']"
      ]
     },
     "execution_count": 5,
     "metadata": {},
     "output_type": "execute_result"
    }
   ],
   "source": [
    "dir(mymol)"
   ]
  },
  {
   "cell_type": "code",
   "execution_count": 6,
   "metadata": {},
   "outputs": [
    {
     "data": {
      "text/plain": [
       "['OBAtom',\n",
       " '__class__',\n",
       " '__delattr__',\n",
       " '__dict__',\n",
       " '__dir__',\n",
       " '__doc__',\n",
       " '__eq__',\n",
       " '__format__',\n",
       " '__ge__',\n",
       " '__getattribute__',\n",
       " '__gt__',\n",
       " '__hash__',\n",
       " '__init__',\n",
       " '__init_subclass__',\n",
       " '__le__',\n",
       " '__lt__',\n",
       " '__module__',\n",
       " '__ne__',\n",
       " '__new__',\n",
       " '__reduce__',\n",
       " '__reduce_ex__',\n",
       " '__repr__',\n",
       " '__setattr__',\n",
       " '__sizeof__',\n",
       " '__str__',\n",
       " '__subclasshook__',\n",
       " '__weakref__',\n",
       " 'atomicmass',\n",
       " 'atomicnum',\n",
       " 'cidx',\n",
       " 'coordidx',\n",
       " 'coords',\n",
       " 'degree',\n",
       " 'exactmass',\n",
       " 'formalcharge',\n",
       " 'heavydegree',\n",
       " 'heavyvalence',\n",
       " 'heterodegree',\n",
       " 'heterovalence',\n",
       " 'hyb',\n",
       " 'idx',\n",
       " 'implicitvalence',\n",
       " 'isotope',\n",
       " 'partialcharge',\n",
       " 'residue',\n",
       " 'spin',\n",
       " 'type',\n",
       " 'valence',\n",
       " 'vector']"
      ]
     },
     "execution_count": 6,
     "metadata": {},
     "output_type": "execute_result"
    }
   ],
   "source": [
    "dir(mymol.atoms[0])"
   ]
  },
  {
   "cell_type": "code",
   "execution_count": 8,
   "metadata": {},
   "outputs": [
    {
     "data": {
      "text/plain": [
       "(0.0, 0.0, 0.0)"
      ]
     },
     "execution_count": 8,
     "metadata": {},
     "output_type": "execute_result"
    }
   ],
   "source": [
    "mymol.atoms[0].coords"
   ]
  },
  {
   "cell_type": "code",
   "execution_count": 9,
   "metadata": {},
   "outputs": [],
   "source": [
    "mymol.make3D()"
   ]
  },
  {
   "cell_type": "code",
   "execution_count": 10,
   "metadata": {},
   "outputs": [
    {
     "data": {
      "text/plain": [
       "(0.912928529926757, -0.08314566716776355, 2.5821499347115007e-05)"
      ]
     },
     "execution_count": 10,
     "metadata": {},
     "output_type": "execute_result"
    }
   ],
   "source": [
    "mymol.atoms[0].coords"
   ]
  },
  {
   "cell_type": "code",
   "execution_count": 11,
   "metadata": {},
   "outputs": [
    {
     "ename": "TypeError",
     "evalue": "expected str, bytes or os.PathLike object, not Atom",
     "output_type": "error",
     "traceback": [
      "\u001b[0;31m---------------------------------------------------------------------------\u001b[0m",
      "\u001b[0;31mTypeError\u001b[0m                                 Traceback (most recent call last)",
      "\u001b[0;32m<ipython-input-11-356fe8e729cc>\u001b[0m in \u001b[0;36m<module>\u001b[0;34m\u001b[0m\n\u001b[0;32m----> 1\u001b[0;31m \u001b[0mmd\u001b[0m\u001b[0;34m.\u001b[0m\u001b[0mload\u001b[0m\u001b[0;34m(\u001b[0m\u001b[0mmymol\u001b[0m\u001b[0;34m)\u001b[0m\u001b[0;34m\u001b[0m\u001b[0;34m\u001b[0m\u001b[0m\n\u001b[0m",
      "\u001b[0;32m~/miniconda3/envs/ml_project/lib/python3.6/site-packages/mdtraj/core/trajectory.py\u001b[0m in \u001b[0;36mload\u001b[0;34m(filename_or_filenames, discard_overlapping_frames, **kwargs)\u001b[0m\n\u001b[1;32m    379\u001b[0m         \u001b[0mfilename\u001b[0m \u001b[0;34m=\u001b[0m \u001b[0mfilename_or_filenames\u001b[0m\u001b[0;34m\u001b[0m\u001b[0;34m\u001b[0m\u001b[0m\n\u001b[1;32m    380\u001b[0m     \u001b[0;32melse\u001b[0m\u001b[0;34m:\u001b[0m  \u001b[0;31m# If multiple filenames, take the first one.\u001b[0m\u001b[0;34m\u001b[0m\u001b[0;34m\u001b[0m\u001b[0m\n\u001b[0;32m--> 381\u001b[0;31m         \u001b[0mextensions\u001b[0m \u001b[0;34m=\u001b[0m \u001b[0;34m[\u001b[0m\u001b[0m_get_extension\u001b[0m\u001b[0;34m(\u001b[0m\u001b[0mf\u001b[0m\u001b[0;34m)\u001b[0m \u001b[0;32mfor\u001b[0m \u001b[0mf\u001b[0m \u001b[0;32min\u001b[0m \u001b[0mfilename_or_filenames\u001b[0m\u001b[0;34m]\u001b[0m\u001b[0;34m\u001b[0m\u001b[0;34m\u001b[0m\u001b[0m\n\u001b[0m\u001b[1;32m    382\u001b[0m         \u001b[0;32mif\u001b[0m \u001b[0mlen\u001b[0m\u001b[0;34m(\u001b[0m\u001b[0mset\u001b[0m\u001b[0;34m(\u001b[0m\u001b[0mextensions\u001b[0m\u001b[0;34m)\u001b[0m\u001b[0;34m)\u001b[0m \u001b[0;34m==\u001b[0m \u001b[0;36m0\u001b[0m\u001b[0;34m:\u001b[0m\u001b[0;34m\u001b[0m\u001b[0;34m\u001b[0m\u001b[0m\n\u001b[1;32m    383\u001b[0m             raise ValueError('No trajectories specified. '\n",
      "\u001b[0;32m~/miniconda3/envs/ml_project/lib/python3.6/site-packages/mdtraj/core/trajectory.py\u001b[0m in \u001b[0;36m<listcomp>\u001b[0;34m(.0)\u001b[0m\n\u001b[1;32m    379\u001b[0m         \u001b[0mfilename\u001b[0m \u001b[0;34m=\u001b[0m \u001b[0mfilename_or_filenames\u001b[0m\u001b[0;34m\u001b[0m\u001b[0;34m\u001b[0m\u001b[0m\n\u001b[1;32m    380\u001b[0m     \u001b[0;32melse\u001b[0m\u001b[0;34m:\u001b[0m  \u001b[0;31m# If multiple filenames, take the first one.\u001b[0m\u001b[0;34m\u001b[0m\u001b[0;34m\u001b[0m\u001b[0m\n\u001b[0;32m--> 381\u001b[0;31m         \u001b[0mextensions\u001b[0m \u001b[0;34m=\u001b[0m \u001b[0;34m[\u001b[0m\u001b[0m_get_extension\u001b[0m\u001b[0;34m(\u001b[0m\u001b[0mf\u001b[0m\u001b[0;34m)\u001b[0m \u001b[0;32mfor\u001b[0m \u001b[0mf\u001b[0m \u001b[0;32min\u001b[0m \u001b[0mfilename_or_filenames\u001b[0m\u001b[0;34m]\u001b[0m\u001b[0;34m\u001b[0m\u001b[0;34m\u001b[0m\u001b[0m\n\u001b[0m\u001b[1;32m    382\u001b[0m         \u001b[0;32mif\u001b[0m \u001b[0mlen\u001b[0m\u001b[0;34m(\u001b[0m\u001b[0mset\u001b[0m\u001b[0;34m(\u001b[0m\u001b[0mextensions\u001b[0m\u001b[0;34m)\u001b[0m\u001b[0;34m)\u001b[0m \u001b[0;34m==\u001b[0m \u001b[0;36m0\u001b[0m\u001b[0;34m:\u001b[0m\u001b[0;34m\u001b[0m\u001b[0;34m\u001b[0m\u001b[0m\n\u001b[1;32m    383\u001b[0m             raise ValueError('No trajectories specified. '\n",
      "\u001b[0;32m~/miniconda3/envs/ml_project/lib/python3.6/site-packages/mdtraj/core/trajectory.py\u001b[0m in \u001b[0;36m_get_extension\u001b[0;34m(filename)\u001b[0m\n\u001b[1;32m    197\u001b[0m \u001b[0;34m\u001b[0m\u001b[0m\n\u001b[1;32m    198\u001b[0m \u001b[0;32mdef\u001b[0m \u001b[0m_get_extension\u001b[0m\u001b[0;34m(\u001b[0m\u001b[0mfilename\u001b[0m\u001b[0;34m)\u001b[0m\u001b[0;34m:\u001b[0m\u001b[0;34m\u001b[0m\u001b[0;34m\u001b[0m\u001b[0m\n\u001b[0;32m--> 199\u001b[0;31m     \u001b[0;34m(\u001b[0m\u001b[0mbase\u001b[0m\u001b[0;34m,\u001b[0m \u001b[0mextension\u001b[0m\u001b[0;34m)\u001b[0m \u001b[0;34m=\u001b[0m \u001b[0mos\u001b[0m\u001b[0;34m.\u001b[0m\u001b[0mpath\u001b[0m\u001b[0;34m.\u001b[0m\u001b[0msplitext\u001b[0m\u001b[0;34m(\u001b[0m\u001b[0mfilename\u001b[0m\u001b[0;34m)\u001b[0m\u001b[0;34m\u001b[0m\u001b[0;34m\u001b[0m\u001b[0m\n\u001b[0m\u001b[1;32m    200\u001b[0m     \u001b[0;32mif\u001b[0m \u001b[0mextension\u001b[0m \u001b[0;34m==\u001b[0m \u001b[0;34m'.gz'\u001b[0m\u001b[0;34m:\u001b[0m\u001b[0;34m\u001b[0m\u001b[0;34m\u001b[0m\u001b[0m\n\u001b[1;32m    201\u001b[0m         \u001b[0mextension2\u001b[0m \u001b[0;34m=\u001b[0m \u001b[0mos\u001b[0m\u001b[0;34m.\u001b[0m\u001b[0mpath\u001b[0m\u001b[0;34m.\u001b[0m\u001b[0msplitext\u001b[0m\u001b[0;34m(\u001b[0m\u001b[0mbase\u001b[0m\u001b[0;34m)\u001b[0m\u001b[0;34m[\u001b[0m\u001b[0;36m1\u001b[0m\u001b[0;34m]\u001b[0m\u001b[0;34m\u001b[0m\u001b[0;34m\u001b[0m\u001b[0m\n",
      "\u001b[0;32m~/miniconda3/envs/ml_project/lib/python3.6/posixpath.py\u001b[0m in \u001b[0;36msplitext\u001b[0;34m(p)\u001b[0m\n\u001b[1;32m    120\u001b[0m \u001b[0;34m\u001b[0m\u001b[0m\n\u001b[1;32m    121\u001b[0m \u001b[0;32mdef\u001b[0m \u001b[0msplitext\u001b[0m\u001b[0;34m(\u001b[0m\u001b[0mp\u001b[0m\u001b[0;34m)\u001b[0m\u001b[0;34m:\u001b[0m\u001b[0;34m\u001b[0m\u001b[0;34m\u001b[0m\u001b[0m\n\u001b[0;32m--> 122\u001b[0;31m     \u001b[0mp\u001b[0m \u001b[0;34m=\u001b[0m \u001b[0mos\u001b[0m\u001b[0;34m.\u001b[0m\u001b[0mfspath\u001b[0m\u001b[0;34m(\u001b[0m\u001b[0mp\u001b[0m\u001b[0;34m)\u001b[0m\u001b[0;34m\u001b[0m\u001b[0;34m\u001b[0m\u001b[0m\n\u001b[0m\u001b[1;32m    123\u001b[0m     \u001b[0;32mif\u001b[0m \u001b[0misinstance\u001b[0m\u001b[0;34m(\u001b[0m\u001b[0mp\u001b[0m\u001b[0;34m,\u001b[0m \u001b[0mbytes\u001b[0m\u001b[0;34m)\u001b[0m\u001b[0;34m:\u001b[0m\u001b[0;34m\u001b[0m\u001b[0;34m\u001b[0m\u001b[0m\n\u001b[1;32m    124\u001b[0m         \u001b[0msep\u001b[0m \u001b[0;34m=\u001b[0m \u001b[0;34mb'/'\u001b[0m\u001b[0;34m\u001b[0m\u001b[0;34m\u001b[0m\u001b[0m\n",
      "\u001b[0;31mTypeError\u001b[0m: expected str, bytes or os.PathLike object, not Atom"
     ]
    }
   ],
   "source": [
    "md.load(mymol)"
   ]
  },
  {
   "cell_type": "code",
   "execution_count": 34,
   "metadata": {},
   "outputs": [],
   "source": [
    "in_folder = \"SI/DockingInput/Ligands/\"\n",
    "out_folder = \"SI/DockingInput/Ligands_pdb/\"\n",
    "temp_folder = \"SI/DockingInput/temp/\""
   ]
  },
  {
   "cell_type": "code",
   "execution_count": 8,
   "metadata": {},
   "outputs": [
    {
     "name": "stderr",
     "output_type": "stream",
     "text": [
      "100%|██████████| 9121/9121 [03:31<00:00, 43.06it/s]\n"
     ]
    }
   ],
   "source": [
    "for file in tqdm(os.listdir(in_folder)):\n",
    "    os.system(\"babel -ipdbqt \"+ in_folder+file + \" -opdb \"+out_folder+file[:-2])"
   ]
  },
  {
   "cell_type": "code",
   "execution_count": 16,
   "metadata": {},
   "outputs": [
    {
     "data": {
      "application/vnd.jupyter.widget-view+json": {
       "model_id": "0d8cd4ef33e54a08a6570a26be63d512",
       "version_major": 2,
       "version_minor": 0
      },
      "text/plain": [
       "NGLWidget()"
      ]
     },
     "metadata": {},
     "output_type": "display_data"
    }
   ],
   "source": [
    "nglview.show_mdtraj(md.load(out_folder+\"Lig\"+str(10)+\".pdb\"))"
   ]
  },
  {
   "cell_type": "code",
   "execution_count": 17,
   "metadata": {},
   "outputs": [
    {
     "data": {
      "application/vnd.jupyter.widget-view+json": {
       "model_id": "e1d07f7a1d5a44ffb307f334005441a7",
       "version_major": 2,
       "version_minor": 0
      },
      "text/plain": [
       "NGLWidget()"
      ]
     },
     "metadata": {},
     "output_type": "display_data"
    }
   ],
   "source": [
    "nglview.show_mdtraj(md.load(out_folder+\"Lig\"+str(11)+\".pdb\"))"
   ]
  },
  {
   "cell_type": "code",
   "execution_count": 18,
   "metadata": {},
   "outputs": [
    {
     "data": {
      "application/vnd.jupyter.widget-view+json": {
       "model_id": "b2aeab198a0b44199416bb204c737fb9",
       "version_major": 2,
       "version_minor": 0
      },
      "text/plain": [
       "NGLWidget()"
      ]
     },
     "metadata": {},
     "output_type": "display_data"
    }
   ],
   "source": [
    "nglview.show_mdtraj(md.load(out_folder+\"Lig\"+str(100)+\".pdb\"))"
   ]
  },
  {
   "cell_type": "code",
   "execution_count": 19,
   "metadata": {},
   "outputs": [
    {
     "data": {
      "application/vnd.jupyter.widget-view+json": {
       "model_id": "a065e5a8c9bc4b45aaf8262018f74957",
       "version_major": 2,
       "version_minor": 0
      },
      "text/plain": [
       "NGLWidget()"
      ]
     },
     "metadata": {},
     "output_type": "display_data"
    }
   ],
   "source": [
    "nglview.show_mdtraj(md.load(out_folder+\"Lig\"+str(1000)+\".pdb\"))"
   ]
  },
  {
   "cell_type": "code",
   "execution_count": 20,
   "metadata": {},
   "outputs": [
    {
     "data": {
      "application/vnd.jupyter.widget-view+json": {
       "model_id": "70c44b324b9343ceb46b7474dd80ef04",
       "version_major": 2,
       "version_minor": 0
      },
      "text/plain": [
       "NGLWidget()"
      ]
     },
     "metadata": {},
     "output_type": "display_data"
    }
   ],
   "source": [
    "nglview.show_mdtraj(md.load(out_folder+\"Lig\"+str(1050)+\".pdb\"))"
   ]
  },
  {
   "cell_type": "code",
   "execution_count": 22,
   "metadata": {},
   "outputs": [
    {
     "data": {
      "application/vnd.jupyter.widget-view+json": {
       "model_id": "2405e28f71694d1aa14ac026ee562026",
       "version_major": 2,
       "version_minor": 0
      },
      "text/plain": [
       "NGLWidget()"
      ]
     },
     "metadata": {},
     "output_type": "display_data"
    }
   ],
   "source": [
    "nglview.show_mdtraj(md.load(out_folder+\"Lig\"+str(6000)+\".pdb\"))"
   ]
  },
  {
   "cell_type": "code",
   "execution_count": 23,
   "metadata": {},
   "outputs": [
    {
     "data": {
      "application/vnd.jupyter.widget-view+json": {
       "model_id": "78b78405f2c64433a94428592545c7b4",
       "version_major": 2,
       "version_minor": 0
      },
      "text/plain": [
       "NGLWidget()"
      ]
     },
     "metadata": {},
     "output_type": "display_data"
    }
   ],
   "source": [
    "nglview.show_mdtraj(md.load(out_folder+\"Lig\"+str(200)+\".pdb\"))"
   ]
  },
  {
   "cell_type": "code",
   "execution_count": 24,
   "metadata": {},
   "outputs": [
    {
     "data": {
      "application/vnd.jupyter.widget-view+json": {
       "model_id": "4800ca9e750244b09ed5b477eddc54cd",
       "version_major": 2,
       "version_minor": 0
      },
      "text/plain": [
       "NGLWidget()"
      ]
     },
     "metadata": {},
     "output_type": "display_data"
    }
   ],
   "source": [
    "nglview.show_mdtraj(md.load(out_folder+\"Lig\"+str(7000)+\".pdb\"))"
   ]
  },
  {
   "cell_type": "code",
   "execution_count": 25,
   "metadata": {},
   "outputs": [
    {
     "data": {
      "application/vnd.jupyter.widget-view+json": {
       "model_id": "213e58c7f98f498e9e53b80192854a35",
       "version_major": 2,
       "version_minor": 0
      },
      "text/plain": [
       "NGLWidget()"
      ]
     },
     "metadata": {},
     "output_type": "display_data"
    }
   ],
   "source": [
    "nglview.show_mdtraj(md.load(out_folder+\"Lig\"+str(9000)+\".pdb\"))"
   ]
  },
  {
   "cell_type": "code",
   "execution_count": 28,
   "metadata": {},
   "outputs": [],
   "source": [
    "mol = bel.readfile(\"pdb\", out_folder+\"Lig\"+str(9000)+\".pdb\").__next__()"
   ]
  },
  {
   "cell_type": "code",
   "execution_count": 29,
   "metadata": {},
   "outputs": [
    {
     "data": {
      "image/svg+xml": [
       "<svg xmlns=\"http://www.w3.org/2000/svg\" font-family=\"sans-serif\" height=\"100\" stroke=\"rgb(0,0,0)\" stroke-linecap=\"round\" stroke-width=\"2\" viewBox=\"0 0 879.472 593.914\" width=\"100\" x=\"0\" y=\"0\">\n",
       "<line opacity=\"1.0\" stroke=\"rgb(0,0,0)\" stroke-width=\"2.0\" x1=\"449.7\" x2=\"415.1\" y1=\"233.9\" y2=\"253.9\" />\n",
       "<line opacity=\"1.0\" stroke=\"rgb(0,0,0)\" stroke-width=\"2.0\" x1=\"449.7\" x2=\"473.1\" y1=\"233.9\" y2=\"247.4\" />\n",
       "<line opacity=\"1.0\" stroke=\"rgb(0,0,0)\" stroke-width=\"2.0\" x1=\"446.7\" x2=\"446.7\" y1=\"233.9\" y2=\"206.9\" />\n",
       "<line opacity=\"1.0\" stroke=\"rgb(0,0,0)\" stroke-width=\"2.0\" x1=\"452.7\" x2=\"452.7\" y1=\"233.9\" y2=\"206.9\" />\n",
       "<line opacity=\"1.0\" stroke=\"rgb(0,0,0)\" stroke-width=\"2.0\" x1=\"484.4\" x2=\"484.4\" y1=\"266.9\" y2=\"280.9\" />\n",
       "<line opacity=\"1.0\" stroke=\"rgb(0,0,0)\" stroke-width=\"2.0\" x1=\"495.6\" x2=\"519.0\" y1=\"247.4\" y2=\"233.9\" />\n",
       "<line opacity=\"1.0\" stroke=\"rgb(0,0,0)\" stroke-width=\"2.0\" x1=\"415.1\" x2=\"415.1\" y1=\"253.9\" y2=\"280.9\" />\n",
       "<polygon fill=\"rgb(0,0,0)\" points=\"415.076188 253.914351 378.435172 237.378452 382.435172 230.450249 \" stroke=\"rgb(0,0,0)\" stroke-width=\"2.000000\" />\n",
       "<line opacity=\"1.0\" stroke=\"rgb(0,0,0)\" stroke-width=\"2.0\" x1=\"380.4\" x2=\"380.4\" y1=\"233.9\" y2=\"193.9\" />\n",
       "<line opacity=\"1.0\" stroke=\"rgb(0,0,0)\" stroke-width=\"2.0\" x1=\"380.4\" x2=\"380.4\" y1=\"113.9\" y2=\"86.9\" />\n",
       "<line opacity=\"1.0\" stroke=\"rgb(0,0,0)\" stroke-width=\"2.0\" x1=\"391.7\" x2=\"403.8\" y1=\"67.4\" y2=\"60.4\" />\n",
       "<line opacity=\"1.0\" stroke=\"rgb(0,0,0)\" stroke-width=\"2.0\" x1=\"403.8\" x2=\"380.4\" y1=\"300.4\" y2=\"313.9\" />\n",
       "<line opacity=\"1.0\" stroke=\"rgb(0,0,0)\" stroke-width=\"2.0\" x1=\"426.3\" x2=\"438.5\" y1=\"300.4\" y2=\"307.4\" />\n",
       "<line opacity=\"1.0\" stroke=\"rgb(0,0,0)\" stroke-width=\"2.0\" x1=\"383.4\" x2=\"383.4\" y1=\"313.9\" y2=\"340.9\" />\n",
       "<line opacity=\"1.0\" stroke=\"rgb(0,0,0)\" stroke-width=\"2.0\" x1=\"377.4\" x2=\"377.4\" y1=\"313.9\" y2=\"340.9\" />\n",
       "<line opacity=\"1.0\" stroke=\"rgb(0,0,0)\" stroke-width=\"2.0\" x1=\"380.4\" x2=\"345.8\" y1=\"313.9\" y2=\"293.9\" />\n",
       "<line opacity=\"1.0\" stroke=\"rgb(0,0,0)\" stroke-width=\"2.0\" x1=\"345.8\" x2=\"322.4\" y1=\"293.9\" y2=\"307.4\" />\n",
       "<polygon fill=\"rgb(0,0,0)\" points=\"345.794156 293.914351 341.794156 253.914351 349.794156 253.914351 \" stroke=\"rgb(0,0,0)\" stroke-width=\"2.000000\" />\n",
       "<line opacity=\"1.0\" stroke=\"rgb(0,0,0)\" stroke-width=\"2.0\" x1=\"345.8\" x2=\"322.4\" y1=\"253.9\" y2=\"240.4\" />\n",
       "<line opacity=\"1.0\" stroke=\"rgb(0,0,0)\" stroke-width=\"2.0\" x1=\"311.2\" x2=\"311.2\" y1=\"220.9\" y2=\"206.9\" />\n",
       "<line opacity=\"1.0\" stroke=\"rgb(0,0,0)\" stroke-width=\"2.0\" x1=\"299.9\" x2=\"276.5\" y1=\"307.4\" y2=\"293.9\" />\n",
       "<line opacity=\"1.0\" stroke=\"rgb(0,0,0)\" stroke-width=\"2.0\" x1=\"311.2\" x2=\"311.2\" y1=\"326.9\" y2=\"340.9\" />\n",
       "<line opacity=\"1.0\" stroke=\"rgb(0,0,0)\" stroke-width=\"2.0\" x1=\"276.5\" x2=\"241.9\" y1=\"293.9\" y2=\"313.9\" />\n",
       "<line opacity=\"1.0\" stroke=\"rgb(0,0,0)\" stroke-width=\"2.0\" x1=\"273.5\" x2=\"273.5\" y1=\"293.9\" y2=\"266.9\" />\n",
       "<line opacity=\"1.0\" stroke=\"rgb(0,0,0)\" stroke-width=\"2.0\" x1=\"279.5\" x2=\"279.5\" y1=\"293.9\" y2=\"266.9\" />\n",
       "<line opacity=\"1.0\" stroke=\"rgb(0,0,0)\" stroke-width=\"2.0\" x1=\"241.9\" x2=\"218.5\" y1=\"313.9\" y2=\"300.4\" />\n",
       "<polygon fill=\"rgb(0,0,0)\" points=\"241.871107 313.914351 245.871107 353.914351 237.871107 353.914351 \" stroke=\"rgb(0,0,0)\" stroke-width=\"2.000000\" />\n",
       "<line opacity=\"1.0\" stroke=\"rgb(0,0,0)\" stroke-width=\"2.0\" x1=\"241.9\" x2=\"207.2\" y1=\"353.9\" y2=\"373.9\" />\n",
       "<line opacity=\"1.0\" stroke=\"rgb(0,0,0)\" stroke-width=\"2.0\" x1=\"131.0\" x2=\"117.1\" y1=\"386.0\" y2=\"384.5\" />\n",
       "<line opacity=\"1.0\" stroke=\"rgb(0,0,0)\" stroke-width=\"2.0\" x1=\"207.2\" x2=\"207.2\" y1=\"280.9\" y2=\"253.9\" />\n",
       "<line opacity=\"1.0\" stroke=\"rgb(0,0,0)\" stroke-width=\"2.0\" x1=\"196.0\" x2=\"183.8\" y1=\"300.4\" y2=\"307.4\" />\n",
       "<line opacity=\"1.0\" stroke=\"rgb(0,0,0)\" stroke-width=\"2.0\" x1=\"207.2\" x2=\"172.6\" y1=\"253.9\" y2=\"233.9\" />\n",
       "<line opacity=\"1.0\" stroke=\"rgb(0,0,0)\" stroke-width=\"2.0\" x1=\"205.7\" x2=\"229.1\" y1=\"251.3\" y2=\"237.8\" />\n",
       "<line opacity=\"1.0\" stroke=\"rgb(0,0,0)\" stroke-width=\"2.0\" x1=\"208.7\" x2=\"232.1\" y1=\"256.5\" y2=\"243.0\" />\n",
       "<line opacity=\"1.0\" stroke=\"rgb(0,0,0)\" stroke-width=\"2.0\" x1=\"172.6\" x2=\"172.6\" y1=\"233.9\" y2=\"206.9\" />\n",
       "<polygon fill=\"rgb(0,0,0)\" points=\"172.589075 233.914351 139.948059 257.378452 135.948059 250.450249 \" stroke=\"rgb(0,0,0)\" stroke-width=\"2.000000\" />\n",
       "<line opacity=\"1.0\" stroke=\"rgb(0,0,0)\" stroke-width=\"2.0\" x1=\"137.9\" x2=\"103.3\" y1=\"253.9\" y2=\"233.9\" />\n",
       "<line opacity=\"1.0\" stroke=\"rgb(0,0,0)\" stroke-width=\"2.0\" x1=\"54.7\" x2=\"49.0\" y1=\"173.9\" y2=\"161.2\" />\n",
       "<line opacity=\"1.0\" stroke=\"rgb(0,0,0)\" stroke-width=\"2.0\" x1=\"161.3\" x2=\"149.2\" y1=\"187.4\" y2=\"180.4\" />\n",
       "<line opacity=\"1.0\" stroke=\"rgb(0,0,0)\" stroke-width=\"2.0\" x1=\"183.8\" x2=\"207.2\" y1=\"187.4\" y2=\"173.9\" />\n",
       "<line opacity=\"1.0\" stroke=\"rgb(0,0,0)\" stroke-width=\"1.0\" x1=\"208.0\" x2=\"206.4\" y1=\"141.9\" y2=\"141.9\" />\n",
       "<line opacity=\"1.0\" stroke=\"rgb(0,0,0)\" stroke-width=\"1.0\" x1=\"208.7\" x2=\"205.8\" y1=\"148.3\" y2=\"148.3\" />\n",
       "<line opacity=\"1.0\" stroke=\"rgb(0,0,0)\" stroke-width=\"1.0\" x1=\"209.3\" x2=\"205.2\" y1=\"154.7\" y2=\"154.7\" />\n",
       "<line opacity=\"1.0\" stroke=\"rgb(0,0,0)\" stroke-width=\"1.0\" x1=\"210.0\" x2=\"204.5\" y1=\"161.1\" y2=\"161.1\" />\n",
       "<line opacity=\"1.0\" stroke=\"rgb(0,0,0)\" stroke-width=\"1.0\" x1=\"210.6\" x2=\"203.9\" y1=\"167.5\" y2=\"167.5\" />\n",
       "<line opacity=\"1.0\" stroke=\"rgb(0,0,0)\" stroke-width=\"1.0\" x1=\"211.2\" x2=\"203.2\" y1=\"173.9\" y2=\"173.9\" />\n",
       "<line opacity=\"1.0\" stroke=\"rgb(0,0,0)\" stroke-width=\"2.0\" x1=\"208.7\" x2=\"232.1\" y1=\"171.3\" y2=\"184.8\" />\n",
       "<line opacity=\"1.0\" stroke=\"rgb(0,0,0)\" stroke-width=\"2.0\" x1=\"205.7\" x2=\"229.1\" y1=\"176.5\" y2=\"190.0\" />\n",
       "<line opacity=\"1.0\" stroke=\"rgb(0,0,0)\" stroke-width=\"2.0\" x1=\"224.8\" x2=\"240.7\" y1=\"70.6\" y2=\"48.8\" />\n",
       "<line opacity=\"1.0\" stroke=\"rgb(0,0,0)\" stroke-width=\"2.0\" x1=\"229.7\" x2=\"245.5\" y1=\"74.1\" y2=\"52.3\" />\n",
       "<line opacity=\"1.0\" stroke=\"rgb(0,0,0)\" stroke-width=\"2.0\" x1=\"252.0\" x2=\"265.3\" y1=\"114.4\" y2=\"118.7\" />\n",
       "<line opacity=\"1.0\" stroke=\"rgb(0,0,0)\" stroke-width=\"2.0\" x1=\"519.0\" x2=\"553.6\" y1=\"233.9\" y2=\"253.9\" />\n",
       "<polygon fill=\"rgb(0,0,0)\" points=\"518.999236 233.914351 514.999236 193.914351 522.999236 193.914351 \" stroke=\"rgb(0,0,0)\" stroke-width=\"2.000000\" />\n",
       "<line opacity=\"1.0\" stroke=\"rgb(0,0,0)\" stroke-width=\"2.0\" x1=\"552.1\" x2=\"575.5\" y1=\"251.3\" y2=\"237.8\" />\n",
       "<line opacity=\"1.0\" stroke=\"rgb(0,0,0)\" stroke-width=\"2.0\" x1=\"555.1\" x2=\"578.5\" y1=\"256.5\" y2=\"243.0\" />\n",
       "<line opacity=\"1.0\" stroke=\"rgb(0,0,0)\" stroke-width=\"2.0\" x1=\"553.6\" x2=\"553.6\" y1=\"253.9\" y2=\"280.9\" />\n",
       "<line opacity=\"1.0\" stroke=\"rgb(0,0,0)\" stroke-width=\"2.0\" x1=\"564.9\" x2=\"588.3\" y1=\"300.4\" y2=\"313.9\" />\n",
       "<line opacity=\"1.0\" stroke=\"rgb(0,0,0)\" stroke-width=\"2.0\" x1=\"542.4\" x2=\"530.3\" y1=\"300.4\" y2=\"307.4\" />\n",
       "<polygon fill=\"rgb(0,0,0)\" points=\"588.281269 313.914351 592.281269 353.914351 584.281269 353.914351 \" stroke=\"rgb(0,0,0)\" stroke-width=\"2.000000\" />\n",
       "<line opacity=\"1.0\" stroke=\"rgb(0,0,0)\" stroke-width=\"2.0\" x1=\"588.3\" x2=\"622.9\" y1=\"313.9\" y2=\"293.9\" />\n",
       "<line opacity=\"1.0\" stroke=\"rgb(0,0,0)\" stroke-width=\"2.0\" x1=\"622.9\" x2=\"646.3\" y1=\"293.9\" y2=\"307.4\" />\n",
       "<line opacity=\"1.0\" stroke=\"rgb(0,0,0)\" stroke-width=\"2.0\" x1=\"619.9\" x2=\"619.9\" y1=\"293.9\" y2=\"266.9\" />\n",
       "<line opacity=\"1.0\" stroke=\"rgb(0,0,0)\" stroke-width=\"2.0\" x1=\"625.9\" x2=\"625.9\" y1=\"293.9\" y2=\"266.9\" />\n",
       "<line opacity=\"1.0\" stroke=\"rgb(0,0,0)\" stroke-width=\"2.0\" x1=\"668.8\" x2=\"680.9\" y1=\"307.4\" y2=\"300.4\" />\n",
       "<line opacity=\"1.0\" stroke=\"rgb(0,0,0)\" stroke-width=\"2.0\" x1=\"657.6\" x2=\"657.6\" y1=\"326.9\" y2=\"353.9\" />\n",
       "<line opacity=\"1.0\" stroke=\"rgb(0,0,0)\" stroke-width=\"2.0\" x1=\"657.6\" x2=\"692.2\" y1=\"353.9\" y2=\"373.9\" />\n",
       "<line opacity=\"1.0\" stroke=\"rgb(0,0,0)\" stroke-width=\"1.0\" x1=\"651.0\" x2=\"650.2\" y1=\"358.6\" y2=\"357.2\" />\n",
       "<line opacity=\"1.0\" stroke=\"rgb(0,0,0)\" stroke-width=\"1.0\" x1=\"645.8\" x2=\"644.4\" y1=\"362.4\" y2=\"359.9\" />\n",
       "<line opacity=\"1.0\" stroke=\"rgb(0,0,0)\" stroke-width=\"1.0\" x1=\"640.6\" x2=\"638.5\" y1=\"366.1\" y2=\"362.5\" />\n",
       "<line opacity=\"1.0\" stroke=\"rgb(0,0,0)\" stroke-width=\"1.0\" x1=\"635.4\" x2=\"632.6\" y1=\"369.9\" y2=\"365.2\" />\n",
       "<line opacity=\"1.0\" stroke=\"rgb(0,0,0)\" stroke-width=\"1.0\" x1=\"630.1\" x2=\"626.8\" y1=\"373.6\" y2=\"367.8\" />\n",
       "<line opacity=\"1.0\" stroke=\"rgb(0,0,0)\" stroke-width=\"1.0\" x1=\"624.9\" x2=\"620.9\" y1=\"377.4\" y2=\"370.5\" />\n",
       "<line opacity=\"1.0\" stroke=\"rgb(0,0,0)\" stroke-width=\"2.0\" x1=\"695.2\" x2=\"695.2\" y1=\"373.9\" y2=\"400.9\" />\n",
       "<line opacity=\"1.0\" stroke=\"rgb(0,0,0)\" stroke-width=\"2.0\" x1=\"689.2\" x2=\"689.2\" y1=\"373.9\" y2=\"400.9\" />\n",
       "<line opacity=\"1.0\" stroke=\"rgb(0,0,0)\" stroke-width=\"2.0\" x1=\"692.2\" x2=\"715.6\" y1=\"373.9\" y2=\"360.4\" />\n",
       "<line opacity=\"1.0\" stroke=\"rgb(0,0,0)\" stroke-width=\"1.0\" x1=\"765.8\" x2=\"764.3\" y1=\"377.8\" y2=\"378.2\" />\n",
       "<line opacity=\"1.0\" stroke=\"rgb(0,0,0)\" stroke-width=\"1.0\" x1=\"767.8\" x2=\"765.0\" y1=\"384.0\" y2=\"384.6\" />\n",
       "<line opacity=\"1.0\" stroke=\"rgb(0,0,0)\" stroke-width=\"1.0\" x1=\"769.7\" x2=\"765.7\" y1=\"390.1\" y2=\"391.0\" />\n",
       "<line opacity=\"1.0\" stroke=\"rgb(0,0,0)\" stroke-width=\"1.0\" x1=\"771.7\" x2=\"766.4\" y1=\"396.2\" y2=\"397.4\" />\n",
       "<line opacity=\"1.0\" stroke=\"rgb(0,0,0)\" stroke-width=\"1.0\" x1=\"773.7\" x2=\"767.1\" y1=\"402.4\" y2=\"403.7\" />\n",
       "<line opacity=\"1.0\" stroke=\"rgb(0,0,0)\" stroke-width=\"1.0\" x1=\"775.6\" x2=\"767.8\" y1=\"408.5\" y2=\"410.1\" />\n",
       "<line opacity=\"1.0\" stroke=\"rgb(0,0,0)\" stroke-width=\"2.0\" x1=\"771.7\" x2=\"797.4\" y1=\"409.3\" y2=\"417.7\" />\n",
       "<line opacity=\"1.0\" stroke=\"rgb(0,0,0)\" stroke-width=\"2.0\" x1=\"773.7\" x2=\"753.6\" y1=\"411.5\" y2=\"429.6\" />\n",
       "<line opacity=\"1.0\" stroke=\"rgb(0,0,0)\" stroke-width=\"2.0\" x1=\"769.7\" x2=\"749.6\" y1=\"407.1\" y2=\"425.1\" />\n",
       "<line opacity=\"1.0\" stroke=\"rgb(0,0,0)\" stroke-width=\"2.0\" x1=\"812.4\" x2=\"818.1\" y1=\"434.4\" y2=\"460.8\" />\n",
       "<line opacity=\"1.0\" stroke=\"rgb(0,0,0)\" stroke-width=\"2.0\" x1=\"819.4\" x2=\"829.8\" y1=\"413.0\" y2=\"403.6\" />\n",
       "<line opacity=\"1.0\" stroke=\"rgb(0,0,0)\" stroke-width=\"2.0\" x1=\"818.1\" x2=\"788.3\" y1=\"460.8\" y2=\"487.6\" />\n",
       "<line opacity=\"1.0\" stroke=\"rgb(0,0,0)\" stroke-width=\"2.0\" x1=\"787.4\" x2=\"761.7\" y1=\"490.4\" y2=\"482.1\" />\n",
       "<line opacity=\"1.0\" stroke=\"rgb(0,0,0)\" stroke-width=\"2.0\" x1=\"789.3\" x2=\"763.6\" y1=\"484.7\" y2=\"476.4\" />\n",
       "<line opacity=\"1.0\" stroke=\"rgb(0,0,0)\" stroke-width=\"2.0\" x1=\"788.3\" x2=\"794.0\" y1=\"487.6\" y2=\"514.0\" />\n",
       "<line opacity=\"1.0\" stroke=\"rgb(0,0,0)\" stroke-width=\"2.0\" x1=\"787.0\" x2=\"776.6\" y1=\"535.4\" y2=\"544.8\" />\n",
       "<line opacity=\"1.0\" stroke=\"rgb(0,0,0)\" stroke-width=\"2.0\" x1=\"809.0\" x2=\"822.3\" y1=\"530.7\" y2=\"535.0\" />\n",
       "<line opacity=\"1.0\" stroke=\"rgb(0,0,0)\" stroke-width=\"2.0\" x1=\"622.9\" x2=\"622.9\" y1=\"373.9\" y2=\"413.9\" />\n",
       "<line opacity=\"1.0\" stroke=\"rgb(0,0,0)\" stroke-width=\"2.0\" x1=\"622.9\" x2=\"657.6\" y1=\"413.9\" y2=\"433.9\" />\n",
       "<line opacity=\"1.0\" stroke=\"rgb(0,0,0)\" stroke-width=\"2.0\" x1=\"657.6\" x2=\"657.6\" y1=\"433.9\" y2=\"460.9\" />\n",
       "<line opacity=\"1.0\" stroke=\"rgb(0,0,0)\" stroke-width=\"2.0\" x1=\"668.8\" x2=\"680.9\" y1=\"480.4\" y2=\"487.4\" />\n",
       "<line opacity=\"1.0\" stroke=\"rgb(0,0,0)\" stroke-width=\"2.0\" x1=\"646.3\" x2=\"622.9\" y1=\"480.4\" y2=\"493.9\" />\n",
       "<line opacity=\"1.0\" stroke=\"rgb(0,0,0)\" stroke-width=\"2.0\" x1=\"621.4\" x2=\"598.0\" y1=\"496.5\" y2=\"483.0\" />\n",
       "<line opacity=\"1.0\" stroke=\"rgb(0,0,0)\" stroke-width=\"2.0\" x1=\"624.4\" x2=\"601.0\" y1=\"491.3\" y2=\"477.8\" />\n",
       "<line opacity=\"1.0\" stroke=\"rgb(0,0,0)\" stroke-width=\"2.0\" x1=\"622.9\" x2=\"622.9\" y1=\"493.9\" y2=\"520.9\" />\n",
       "<line opacity=\"1.0\" stroke=\"rgb(0,0,0)\" stroke-width=\"2.0\" x1=\"588.3\" x2=\"588.3\" y1=\"460.9\" y2=\"446.9\" />\n",
       "<line opacity=\"1.0\" stroke=\"rgb(0,0,0)\" stroke-width=\"2.0\" x1=\"577.0\" x2=\"564.9\" y1=\"480.4\" y2=\"487.4\" />\n",
       "<line opacity=\"1.0\" stroke=\"rgb(0,0,0)\" stroke-width=\"2.0\" x1=\"611.7\" x2=\"599.5\" y1=\"540.4\" y2=\"547.4\" />\n",
       "<line opacity=\"1.0\" stroke=\"rgb(0,0,0)\" stroke-width=\"2.0\" x1=\"634.2\" x2=\"646.3\" y1=\"540.4\" y2=\"547.4\" />\n",
       "<line opacity=\"1.0\" stroke=\"rgb(0,0,0)\" stroke-width=\"2.0\" x1=\"588.3\" x2=\"553.6\" y1=\"353.9\" y2=\"373.9\" />\n",
       "<line opacity=\"1.0\" stroke=\"rgb(0,0,0)\" stroke-width=\"2.0\" x1=\"553.6\" x2=\"530.3\" y1=\"373.9\" y2=\"360.4\" />\n",
       "<line opacity=\"1.0\" stroke=\"rgb(0,0,0)\" stroke-width=\"2.0\" x1=\"553.6\" x2=\"553.6\" y1=\"373.9\" y2=\"400.9\" />\n",
       "<line opacity=\"1.0\" stroke=\"rgb(0,0,0)\" stroke-width=\"2.0\" x1=\"519.0\" x2=\"553.6\" y1=\"193.9\" y2=\"173.9\" />\n",
       "<line opacity=\"1.0\" stroke=\"rgb(0,0,0)\" stroke-width=\"2.0\" x1=\"150.4\" x2=\"163.9\" y1=\"398.6\" y2=\"422.0\" />\n",
       "<line opacity=\"1.0\" stroke=\"rgb(0,0,0)\" stroke-width=\"2.0\" x1=\"163.9\" x2=\"203.0\" y1=\"422.0\" y2=\"413.7\" />\n",
       "<line opacity=\"1.0\" stroke=\"rgb(0,0,0)\" stroke-width=\"2.0\" x1=\"203.0\" x2=\"207.2\" y1=\"413.7\" y2=\"373.9\" />\n",
       "<line opacity=\"1.0\" stroke=\"rgb(0,0,0)\" stroke-width=\"2.0\" x1=\"207.2\" x2=\"170.7\" y1=\"373.9\" y2=\"357.6\" />\n",
       "<line opacity=\"1.0\" stroke=\"rgb(0,0,0)\" stroke-width=\"2.0\" x1=\"198.8\" x2=\"173.2\" y1=\"378.1\" y2=\"366.7\" />\n",
       "<line opacity=\"1.0\" stroke=\"rgb(0,0,0)\" stroke-width=\"2.0\" x1=\"170.7\" x2=\"152.6\" y1=\"357.6\" y2=\"377.7\" />\n",
       "<line opacity=\"1.0\" stroke=\"rgb(0,0,0)\" stroke-width=\"2.0\" x1=\"99.1\" x2=\"103.3\" y1=\"194.1\" y2=\"233.9\" />\n",
       "<line opacity=\"1.0\" stroke=\"rgb(0,0,0)\" stroke-width=\"2.0\" x1=\"92.6\" x2=\"95.5\" y1=\"200.9\" y2=\"228.7\" />\n",
       "<line opacity=\"1.0\" stroke=\"rgb(0,0,0)\" stroke-width=\"2.0\" x1=\"103.3\" x2=\"78.6\" y1=\"233.9\" y2=\"244.9\" />\n",
       "<line opacity=\"1.0\" stroke=\"rgb(0,0,0)\" stroke-width=\"2.0\" x1=\"57.9\" x2=\"40.0\" y1=\"240.4\" y2=\"220.5\" />\n",
       "<line opacity=\"1.0\" stroke=\"rgb(0,0,0)\" stroke-width=\"2.0\" x1=\"61.9\" x2=\"49.4\" y1=\"234.1\" y2=\"220.1\" />\n",
       "<line opacity=\"1.0\" stroke=\"rgb(0,0,0)\" stroke-width=\"2.0\" x1=\"40.0\" x2=\"53.5\" y1=\"220.5\" y2=\"197.1\" />\n",
       "<line opacity=\"1.0\" stroke=\"rgb(0,0,0)\" stroke-width=\"2.0\" x1=\"72.7\" x2=\"99.1\" y1=\"188.5\" y2=\"194.1\" />\n",
       "<line opacity=\"1.0\" stroke=\"rgb(0,0,0)\" stroke-width=\"2.0\" x1=\"415.1\" x2=\"380.4\" y1=\"133.9\" y2=\"113.9\" />\n",
       "<line opacity=\"1.0\" stroke=\"rgb(0,0,0)\" stroke-width=\"2.0\" x1=\"380.4\" x2=\"345.8\" y1=\"113.9\" y2=\"133.9\" />\n",
       "<line opacity=\"1.0\" stroke=\"rgb(0,0,0)\" stroke-width=\"2.0\" x1=\"378.8\" x2=\"354.6\" y1=\"123.1\" y2=\"137.1\" />\n",
       "<line opacity=\"1.0\" stroke=\"rgb(0,0,0)\" stroke-width=\"2.0\" x1=\"345.8\" x2=\"345.8\" y1=\"133.9\" y2=\"173.9\" />\n",
       "<line opacity=\"1.0\" stroke=\"rgb(0,0,0)\" stroke-width=\"2.0\" x1=\"345.8\" x2=\"380.4\" y1=\"173.9\" y2=\"193.9\" />\n",
       "<line opacity=\"1.0\" stroke=\"rgb(0,0,0)\" stroke-width=\"2.0\" x1=\"354.6\" x2=\"378.8\" y1=\"170.7\" y2=\"184.7\" />\n",
       "<line opacity=\"1.0\" stroke=\"rgb(0,0,0)\" stroke-width=\"2.0\" x1=\"380.4\" x2=\"415.1\" y1=\"193.9\" y2=\"173.9\" />\n",
       "<line opacity=\"1.0\" stroke=\"rgb(0,0,0)\" stroke-width=\"2.0\" x1=\"415.1\" x2=\"415.1\" y1=\"173.9\" y2=\"133.9\" />\n",
       "<line opacity=\"1.0\" stroke=\"rgb(0,0,0)\" stroke-width=\"2.0\" x1=\"407.9\" x2=\"407.9\" y1=\"167.9\" y2=\"139.9\" />\n",
       "<line opacity=\"1.0\" stroke=\"rgb(0,0,0)\" stroke-width=\"2.0\" x1=\"217.5\" x2=\"229.8\" y1=\"481.5\" y2=\"443.4\" />\n",
       "<line opacity=\"1.0\" stroke=\"rgb(0,0,0)\" stroke-width=\"2.0\" x1=\"229.8\" x2=\"203.0\" y1=\"443.4\" y2=\"413.7\" />\n",
       "<line opacity=\"1.0\" stroke=\"rgb(0,0,0)\" stroke-width=\"2.0\" x1=\"220.4\" x2=\"201.7\" y1=\"443.8\" y2=\"423.0\" />\n",
       "<line opacity=\"1.0\" stroke=\"rgb(0,0,0)\" stroke-width=\"2.0\" x1=\"163.9\" x2=\"151.6\" y1=\"422.0\" y2=\"460.1\" />\n",
       "<line opacity=\"1.0\" stroke=\"rgb(0,0,0)\" stroke-width=\"2.0\" x1=\"168.9\" x2=\"160.3\" y1=\"429.9\" y2=\"456.6\" />\n",
       "<line opacity=\"1.0\" stroke=\"rgb(0,0,0)\" stroke-width=\"2.0\" x1=\"151.6\" x2=\"178.3\" y1=\"460.1\" y2=\"489.8\" />\n",
       "<line opacity=\"1.0\" stroke=\"rgb(0,0,0)\" stroke-width=\"2.0\" x1=\"178.3\" x2=\"217.5\" y1=\"489.8\" y2=\"481.5\" />\n",
       "<line opacity=\"1.0\" stroke=\"rgb(0,0,0)\" stroke-width=\"2.0\" x1=\"182.7\" x2=\"210.1\" y1=\"481.5\" y2=\"475.7\" />\n",
       "<line opacity=\"1.0\" stroke=\"rgb(0,0,0)\" stroke-width=\"2.0\" x1=\"622.9\" x2=\"622.9\" y1=\"173.9\" y2=\"133.9\" />\n",
       "<line opacity=\"1.0\" stroke=\"rgb(0,0,0)\" stroke-width=\"2.0\" x1=\"622.9\" x2=\"588.3\" y1=\"133.9\" y2=\"113.9\" />\n",
       "<line opacity=\"1.0\" stroke=\"rgb(0,0,0)\" stroke-width=\"2.0\" x1=\"614.1\" x2=\"589.9\" y1=\"137.1\" y2=\"123.1\" />\n",
       "<line opacity=\"1.0\" stroke=\"rgb(0,0,0)\" stroke-width=\"2.0\" x1=\"588.3\" x2=\"553.6\" y1=\"113.9\" y2=\"133.9\" />\n",
       "<line opacity=\"1.0\" stroke=\"rgb(0,0,0)\" stroke-width=\"2.0\" x1=\"553.6\" x2=\"553.6\" y1=\"133.9\" y2=\"173.9\" />\n",
       "<line opacity=\"1.0\" stroke=\"rgb(0,0,0)\" stroke-width=\"2.0\" x1=\"560.8\" x2=\"560.8\" y1=\"139.9\" y2=\"167.9\" />\n",
       "<line opacity=\"1.0\" stroke=\"rgb(0,0,0)\" stroke-width=\"2.0\" x1=\"553.6\" x2=\"588.3\" y1=\"173.9\" y2=\"193.9\" />\n",
       "<line opacity=\"1.0\" stroke=\"rgb(0,0,0)\" stroke-width=\"2.0\" x1=\"588.3\" x2=\"622.9\" y1=\"193.9\" y2=\"173.9\" />\n",
       "<line opacity=\"1.0\" stroke=\"rgb(0,0,0)\" stroke-width=\"2.0\" x1=\"589.9\" x2=\"614.1\" y1=\"184.7\" y2=\"170.7\" />\n",
       "<line opacity=\"1.0\" stroke=\"rgb(0,0,0)\" stroke-width=\"2.0\" x1=\"622.9\" x2=\"588.3\" y1=\"53.9\" y2=\"73.9\" />\n",
       "<line opacity=\"1.0\" stroke=\"rgb(0,0,0)\" stroke-width=\"2.0\" x1=\"621.3\" x2=\"597.1\" y1=\"63.1\" y2=\"77.1\" />\n",
       "<line opacity=\"1.0\" stroke=\"rgb(0,0,0)\" stroke-width=\"2.0\" x1=\"588.3\" x2=\"588.3\" y1=\"73.9\" y2=\"113.9\" />\n",
       "<line opacity=\"1.0\" stroke=\"rgb(0,0,0)\" stroke-width=\"2.0\" x1=\"622.9\" x2=\"657.6\" y1=\"133.9\" y2=\"113.9\" />\n",
       "<line opacity=\"1.0\" stroke=\"rgb(0,0,0)\" stroke-width=\"2.0\" x1=\"657.6\" x2=\"657.6\" y1=\"113.9\" y2=\"73.9\" />\n",
       "<line opacity=\"1.0\" stroke=\"rgb(0,0,0)\" stroke-width=\"2.0\" x1=\"650.4\" x2=\"650.4\" y1=\"107.9\" y2=\"79.9\" />\n",
       "<line opacity=\"1.0\" stroke=\"rgb(0,0,0)\" stroke-width=\"2.0\" x1=\"657.6\" x2=\"622.9\" y1=\"73.9\" y2=\"53.9\" />\n",
       "<line opacity=\"1.0\" stroke=\"rgb(0,0,0)\" stroke-width=\"2.0\" x1=\"174.9\" x2=\"207.2\" y1=\"110.4\" y2=\"133.9\" />\n",
       "<line opacity=\"1.0\" stroke=\"rgb(0,0,0)\" stroke-width=\"2.0\" x1=\"207.2\" x2=\"229.1\" y1=\"133.9\" y2=\"118.0\" />\n",
       "<line opacity=\"1.0\" stroke=\"rgb(0,0,0)\" stroke-width=\"2.0\" x1=\"235.6\" x2=\"227.2\" y1=\"98.0\" y2=\"72.4\" />\n",
       "<line opacity=\"1.0\" stroke=\"rgb(0,0,0)\" stroke-width=\"2.0\" x1=\"227.2\" x2=\"187.2\" y1=\"72.4\" y2=\"72.4\" />\n",
       "<line opacity=\"1.0\" stroke=\"rgb(0,0,0)\" stroke-width=\"2.0\" x1=\"187.2\" x2=\"174.9\" y1=\"72.4\" y2=\"110.4\" />\n",
       "<line opacity=\"1.0\" stroke=\"rgb(0,0,0)\" stroke-width=\"2.0\" x1=\"763.4\" x2=\"738.7\" y1=\"370.2\" y2=\"359.2\" />\n",
       "<line opacity=\"1.0\" stroke=\"rgb(0,0,0)\" stroke-width=\"2.0\" x1=\"728.2\" x2=\"731.0\" y1=\"341.0\" y2=\"314.1\" />\n",
       "<line opacity=\"1.0\" stroke=\"rgb(0,0,0)\" stroke-width=\"2.0\" x1=\"731.0\" x2=\"770.2\" y1=\"314.1\" y2=\"305.8\" />\n",
       "<line opacity=\"1.0\" stroke=\"rgb(0,0,0)\" stroke-width=\"2.0\" x1=\"770.2\" x2=\"790.2\" y1=\"305.8\" y2=\"340.5\" />\n",
       "<line opacity=\"1.0\" stroke=\"rgb(0,0,0)\" stroke-width=\"2.0\" x1=\"790.2\" x2=\"763.4\" y1=\"340.5\" y2=\"370.2\" />\n",
       "<text fill=\"rgb(191,191,191)\" font-size=\"16\" font-weight=\"bold\" stroke-width=\"0\" x=\"828.695283\" y=\"547.048112\">H</text>\n",
       "<text fill=\"rgb(12,12,255)\" font-size=\"16\" font-weight=\"bold\" stroke-width=\"0\" x=\"790.653022\" y=\"534.687432\">N</text>\n",
       "<text fill=\"rgb(255,12,12)\" font-size=\"16\" font-weight=\"bold\" stroke-width=\"0\" x=\"735.977826\" y=\"444.074945\">O</text>\n",
       "<text fill=\"rgb(191,191,191)\" font-size=\"16\" font-weight=\"bold\" stroke-width=\"0\" x=\"833.471673\" y=\"402.905176\">H</text>\n",
       "<text fill=\"rgb(12,12,255)\" font-size=\"16\" font-weight=\"bold\" stroke-width=\"0\" x=\"803.745880\" y=\"429.670400\">N</text>\n",
       "<text fill=\"rgb(255,12,12)\" font-size=\"16\" font-weight=\"bold\" stroke-width=\"0\" x=\"686.204317\" y=\"421.914351\">O</text>\n",
       "<text fill=\"rgb(12,12,255)\" font-size=\"16\" font-weight=\"bold\" stroke-width=\"0\" x=\"720.845333\" y=\"361.914351\">N</text>\n",
       "<text fill=\"rgb(191,191,191)\" font-size=\"16\" font-weight=\"bold\" stroke-width=\"0\" x=\"760.927229\" y=\"561.452657\">H</text>\n",
       "<text fill=\"rgb(255,12,12)\" font-size=\"16\" font-weight=\"bold\" stroke-width=\"0\" x=\"616.922285\" y=\"261.914351\">O</text>\n",
       "<text fill=\"rgb(191,191,191)\" font-size=\"16\" font-weight=\"bold\" stroke-width=\"0\" x=\"686.204317\" y=\"301.914351\">H</text>\n",
       "<text fill=\"rgb(12,12,255)\" font-size=\"16\" font-weight=\"bold\" stroke-width=\"0\" x=\"651.563301\" y=\"321.914351\">N</text>\n",
       "<text fill=\"rgb(255,12,12)\" font-size=\"16\" font-weight=\"bold\" stroke-width=\"0\" x=\"582.281269\" y=\"241.914351\">O</text>\n",
       "<text fill=\"rgb(191,191,191)\" font-size=\"16\" font-weight=\"bold\" stroke-width=\"0\" x=\"512.999236\" y=\"321.914351\">H</text>\n",
       "<text fill=\"rgb(12,12,255)\" font-size=\"16\" font-weight=\"bold\" stroke-width=\"0\" x=\"547.640253\" y=\"301.914351\">N</text>\n",
       "<text fill=\"rgb(191,191,191)\" font-size=\"16\" font-weight=\"bold\" stroke-width=\"0\" x=\"271.633031\" y=\"130.763620\">H</text>\n",
       "<text fill=\"rgb(255,12,12)\" font-size=\"16\" font-weight=\"bold\" stroke-width=\"0\" x=\"244.741501\" y=\"48.000000\">O</text>\n",
       "<text fill=\"rgb(102,102,102)\" font-size=\"16\" font-weight=\"bold\" stroke-width=\"0\" x=\"549.640253\" y=\"421.914351\">CH</text>\n",
       "<text fill=\"rgb(102,102,102)\" font-size=\"13\" font-weight=\"bold\" stroke-width=\"0\" x=\"573.640253\" y=\"425.594351\">3</text>\n",
       "<text fill=\"rgb(102,102,102)\" font-size=\"16\" font-weight=\"bold\" stroke-width=\"0\" x=\"492.999236\" y=\"361.914351\">H</text>\n",
       "<text fill=\"rgb(102,102,102)\" font-size=\"13\" font-weight=\"bold\" stroke-width=\"0\" x=\"504.999236\" y=\"365.594351\">3</text>\n",
       "<text fill=\"rgb(102,102,102)\" font-size=\"16\" font-weight=\"bold\" stroke-width=\"0\" x=\"511.499236\" y=\"361.914351\">C</text>\n",
       "<text fill=\"rgb(12,12,255)\" font-size=\"16\" font-weight=\"bold\" stroke-width=\"0\" x=\"233.590771\" y=\"118.402940\">N</text>\n",
       "<text fill=\"rgb(191,191,191)\" font-size=\"16\" font-weight=\"bold\" stroke-width=\"0\" x=\"686.204317\" y=\"501.914351\">H</text>\n",
       "<text fill=\"rgb(191,191,191)\" font-size=\"16\" font-weight=\"bold\" stroke-width=\"0\" x=\"651.563301\" y=\"561.914351\">H</text>\n",
       "<text fill=\"rgb(191,191,191)\" font-size=\"16\" font-weight=\"bold\" stroke-width=\"0\" x=\"582.281269\" y=\"561.914351\">H</text>\n",
       "<text fill=\"rgb(191,191,191)\" font-size=\"16\" font-weight=\"bold\" stroke-width=\"0\" x=\"547.640253\" y=\"501.914351\">H</text>\n",
       "<text fill=\"rgb(191,191,191)\" font-size=\"16\" font-weight=\"bold\" stroke-width=\"0\" x=\"582.281269\" y=\"441.914351\">H</text>\n",
       "<text fill=\"rgb(12,12,255)\" font-size=\"16\" font-weight=\"bold\" stroke-width=\"0\" x=\"616.922285\" y=\"541.914351\">N</text>\n",
       "<text fill=\"rgb(12,12,255)\" font-size=\"16\" font-weight=\"bold\" stroke-width=\"0\" x=\"582.281269\" y=\"481.914351\">N</text>\n",
       "<text fill=\"rgb(12,12,255)\" font-size=\"16\" font-weight=\"bold\" stroke-width=\"0\" x=\"651.563301\" y=\"481.914351\">N</text>\n",
       "<text fill=\"rgb(255,12,12)\" font-size=\"16\" font-weight=\"bold\" stroke-width=\"0\" x=\"744.294294\" y=\"483.200849\">O</text>\n",
       "<text fill=\"rgb(12,12,255)\" font-size=\"16\" font-weight=\"bold\" stroke-width=\"0\" x=\"409.076188\" y=\"301.914351\">N</text>\n",
       "<text fill=\"rgb(191,191,191)\" font-size=\"16\" font-weight=\"bold\" stroke-width=\"0\" x=\"305.153139\" y=\"361.914351\">H</text>\n",
       "<text fill=\"rgb(255,12,12)\" font-size=\"16\" font-weight=\"bold\" stroke-width=\"0\" x=\"270.512123\" y=\"261.914351\">O</text>\n",
       "<text fill=\"rgb(12,12,255)\" font-size=\"16\" font-weight=\"bold\" stroke-width=\"0\" x=\"305.153139\" y=\"321.914351\">N</text>\n",
       "<text fill=\"rgb(191,191,191)\" font-size=\"16\" font-weight=\"bold\" stroke-width=\"0\" x=\"305.153139\" y=\"201.914351\">H</text>\n",
       "<text fill=\"rgb(255,12,12)\" font-size=\"16\" font-weight=\"bold\" stroke-width=\"0\" x=\"305.153139\" y=\"241.914351\">O</text>\n",
       "<text fill=\"rgb(191,191,191)\" font-size=\"16\" font-weight=\"bold\" stroke-width=\"0\" x=\"443.717204\" y=\"321.914351\">H</text>\n",
       "<text fill=\"rgb(255,12,12)\" font-size=\"16\" font-weight=\"bold\" stroke-width=\"0\" x=\"374.435172\" y=\"361.914351\">O</text>\n",
       "<text fill=\"rgb(191,191,191)\" font-size=\"16\" font-weight=\"bold\" stroke-width=\"0\" x=\"409.076188\" y=\"61.914351\">H</text>\n",
       "<text fill=\"rgb(255,12,12)\" font-size=\"16\" font-weight=\"bold\" stroke-width=\"0\" x=\"374.435172\" y=\"81.914351\">O</text>\n",
       "<text fill=\"rgb(191,191,191)\" font-size=\"16\" font-weight=\"bold\" stroke-width=\"0\" x=\"478.358220\" y=\"301.914351\">H</text>\n",
       "<text fill=\"rgb(255,12,12)\" font-size=\"16\" font-weight=\"bold\" stroke-width=\"0\" x=\"443.717204\" y=\"201.914351\">O</text>\n",
       "<text fill=\"rgb(12,12,255)\" font-size=\"16\" font-weight=\"bold\" stroke-width=\"0\" x=\"478.358220\" y=\"261.914351\">N</text>\n",
       "<text fill=\"rgb(191,191,191)\" font-size=\"16\" font-weight=\"bold\" stroke-width=\"0\" x=\"131.948059\" y=\"181.914351\">H</text>\n",
       "<text fill=\"rgb(255,12,12)\" font-size=\"16\" font-weight=\"bold\" stroke-width=\"0\" x=\"235.871107\" y=\"201.914351\">O</text>\n",
       "<text fill=\"rgb(12,12,255)\" font-size=\"16\" font-weight=\"bold\" stroke-width=\"0\" x=\"166.589075\" y=\"201.914351\">N</text>\n",
       "<text fill=\"rgb(12,12,255)\" font-size=\"16\" font-weight=\"bold\" stroke-width=\"0\" x=\"60.765224\" y=\"258.183816\">N</text>\n",
       "<text fill=\"rgb(191,191,191)\" font-size=\"16\" font-weight=\"bold\" stroke-width=\"0\" x=\"37.730534\" y=\"157.275189\">H</text>\n",
       "<text fill=\"rgb(12,12,255)\" font-size=\"16\" font-weight=\"bold\" stroke-width=\"0\" x=\"54.000000\" y=\"193.817007\">N</text>\n",
       "<text fill=\"rgb(191,191,191)\" font-size=\"16\" font-weight=\"bold\" stroke-width=\"0\" x=\"166.589075\" y=\"321.914351\">H</text>\n",
       "<text fill=\"rgb(255,12,12)\" font-size=\"16\" font-weight=\"bold\" stroke-width=\"0\" x=\"235.871107\" y=\"241.914351\">O</text>\n",
       "<text fill=\"rgb(12,12,255)\" font-size=\"16\" font-weight=\"bold\" stroke-width=\"0\" x=\"201.230091\" y=\"301.914351\">N</text>\n",
       "<text fill=\"rgb(191,191,191)\" font-size=\"16\" font-weight=\"bold\" stroke-width=\"0\" x=\"98.142173\" y=\"391.189539\">H</text>\n",
       "<text fill=\"rgb(12,12,255)\" font-size=\"16\" font-weight=\"bold\" stroke-width=\"0\" x=\"137.923048\" y=\"395.370678\">N</text>\n",
       "</svg>\n"
      ],
      "text/plain": [
       "<pybel.Molecule at 0x7f4a6c22c240>"
      ]
     },
     "execution_count": 29,
     "metadata": {},
     "output_type": "execute_result"
    }
   ],
   "source": [
    "mol"
   ]
  },
  {
   "cell_type": "code",
   "execution_count": 31,
   "metadata": {},
   "outputs": [
    {
     "data": {
      "text/plain": [
       "(5.224, 3.262, 6.552)"
      ]
     },
     "execution_count": 31,
     "metadata": {},
     "output_type": "execute_result"
    }
   ],
   "source": [
    "mol.atoms[0].coords"
   ]
  },
  {
   "cell_type": "code",
   "execution_count": 32,
   "metadata": {},
   "outputs": [],
   "source": [
    "mol.make3D()"
   ]
  },
  {
   "cell_type": "code",
   "execution_count": 33,
   "metadata": {},
   "outputs": [
    {
     "data": {
      "text/plain": [
       "(1.6832551313090918, 0.019474793380942598, -0.24328376920082395)"
      ]
     },
     "execution_count": 33,
     "metadata": {},
     "output_type": "execute_result"
    }
   ],
   "source": [
    "mol.atoms[0].coords"
   ]
  },
  {
   "cell_type": "code",
   "execution_count": 35,
   "metadata": {},
   "outputs": [],
   "source": [
    "mol.write(\"pdb\", temp_folder+\"Lig9000_changed.pdb\")"
   ]
  },
  {
   "cell_type": "code",
   "execution_count": 38,
   "metadata": {},
   "outputs": [
    {
     "data": {
      "application/vnd.jupyter.widget-view+json": {
       "model_id": "73de909abdec4db28260cd717836853a",
       "version_major": 2,
       "version_minor": 0
      },
      "text/plain": [
       "NGLWidget()"
      ]
     },
     "metadata": {},
     "output_type": "display_data"
    }
   ],
   "source": [
    "nglview.show_mdtraj(md.load(temp_folder+\"Lig\"+str(9000)+\"_changed.pdb\"))"
   ]
  },
  {
   "cell_type": "code",
   "execution_count": 39,
   "metadata": {},
   "outputs": [],
   "source": [
    "mol.removeh()"
   ]
  },
  {
   "cell_type": "code",
   "execution_count": 41,
   "metadata": {},
   "outputs": [],
   "source": [
    "mol.write(\"pdb\", temp_folder+\"Lig9000_changed.pdb\", \"overwrite=True\")"
   ]
  },
  {
   "cell_type": "code",
   "execution_count": 42,
   "metadata": {},
   "outputs": [
    {
     "data": {
      "application/vnd.jupyter.widget-view+json": {
       "model_id": "0b3370581cd543caa12405c1893e7091",
       "version_major": 2,
       "version_minor": 0
      },
      "text/plain": [
       "NGLWidget()"
      ]
     },
     "metadata": {},
     "output_type": "display_data"
    }
   ],
   "source": [
    "nglview.show_mdtraj(md.load(temp_folder+\"Lig\"+str(9000)+\"_changed.pdb\"))"
   ]
  },
  {
   "cell_type": "code",
   "execution_count": 43,
   "metadata": {},
   "outputs": [
    {
     "data": {
      "application/vnd.jupyter.widget-view+json": {
       "model_id": "b47714587eeb4a6f9667a2bd5476d120",
       "version_major": 2,
       "version_minor": 0
      },
      "text/plain": [
       "NGLWidget()"
      ]
     },
     "metadata": {},
     "output_type": "display_data"
    }
   ],
   "source": [
    "nglview.show_mdtraj(md.load(out_folder+\"Lig\"+str(9000)+\".pdb\"))"
   ]
  },
  {
   "cell_type": "code",
   "execution_count": 10,
   "metadata": {},
   "outputs": [],
   "source": [
    "P = [[0, 0], [1, 0], [2, 0]]"
   ]
  },
  {
   "cell_type": "code",
   "execution_count": 11,
   "metadata": {},
   "outputs": [],
   "source": [
    "Q =[[0, 0], [1, 0], [2, 0]]"
   ]
  },
  {
   "cell_type": "code",
   "execution_count": 12,
   "metadata": {},
   "outputs": [],
   "source": [
    "U = kabsch(P,Q)"
   ]
  },
  {
   "cell_type": "code",
   "execution_count": 13,
   "metadata": {},
   "outputs": [
    {
     "data": {
      "text/plain": [
       "array([[1., 0.],\n",
       "       [0., 1.]])"
      ]
     },
     "execution_count": 13,
     "metadata": {},
     "output_type": "execute_result"
    }
   ],
   "source": [
    "U"
   ]
  },
  {
   "cell_type": "code",
   "execution_count": 14,
   "metadata": {},
   "outputs": [],
   "source": [
    "x,y = zip(*P)"
   ]
  },
  {
   "cell_type": "code",
   "execution_count": 15,
   "metadata": {},
   "outputs": [
    {
     "data": {
      "text/plain": [
       "(0, 1, 2)"
      ]
     },
     "execution_count": 15,
     "metadata": {},
     "output_type": "execute_result"
    }
   ],
   "source": [
    "x"
   ]
  },
  {
   "cell_type": "code",
   "execution_count": 16,
   "metadata": {},
   "outputs": [
    {
     "data": {
      "text/plain": [
       "(0, 0, 0)"
      ]
     },
     "execution_count": 16,
     "metadata": {},
     "output_type": "execute_result"
    }
   ],
   "source": [
    "y"
   ]
  },
  {
   "cell_type": "code",
   "execution_count": 17,
   "metadata": {},
   "outputs": [
    {
     "data": {
      "text/plain": [
       "<zip at 0x7fe2bc57e2c8>"
      ]
     },
     "execution_count": 17,
     "metadata": {},
     "output_type": "execute_result"
    }
   ],
   "source": [
    "zip([1,2],[3,4],[5,6])"
   ]
  },
  {
   "cell_type": "code",
   "execution_count": 19,
   "metadata": {},
   "outputs": [],
   "source": [
    "x,y = zip([1,2],[3,4],[5,6])"
   ]
  },
  {
   "cell_type": "code",
   "execution_count": 20,
   "metadata": {},
   "outputs": [
    {
     "data": {
      "text/plain": [
       "(1, 3, 5)"
      ]
     },
     "execution_count": 20,
     "metadata": {},
     "output_type": "execute_result"
    }
   ],
   "source": [
    "x"
   ]
  },
  {
   "cell_type": "code",
   "execution_count": 21,
   "metadata": {},
   "outputs": [
    {
     "data": {
      "text/plain": [
       "(2, 4, 6)"
      ]
     },
     "execution_count": 21,
     "metadata": {},
     "output_type": "execute_result"
    }
   ],
   "source": [
    "y"
   ]
  },
  {
   "cell_type": "code",
   "execution_count": 24,
   "metadata": {},
   "outputs": [],
   "source": [
    "P = np.array(P)"
   ]
  },
  {
   "cell_type": "code",
   "execution_count": 25,
   "metadata": {},
   "outputs": [
    {
     "data": {
      "text/plain": [
       "array([[0, 0],\n",
       "       [1, 0],\n",
       "       [2, 0]])"
      ]
     },
     "execution_count": 25,
     "metadata": {},
     "output_type": "execute_result"
    }
   ],
   "source": [
    "P"
   ]
  },
  {
   "cell_type": "code",
   "execution_count": 26,
   "metadata": {},
   "outputs": [],
   "source": [
    "c = P.mean(axis = 0)"
   ]
  },
  {
   "cell_type": "code",
   "execution_count": 27,
   "metadata": {},
   "outputs": [
    {
     "data": {
      "text/plain": [
       "array([1., 0.])"
      ]
     },
     "execution_count": 27,
     "metadata": {},
     "output_type": "execute_result"
    }
   ],
   "source": [
    "c"
   ]
  },
  {
   "cell_type": "code",
   "execution_count": 28,
   "metadata": {},
   "outputs": [],
   "source": [
    "Q = [[0,1],[1,1],[2,1]]"
   ]
  },
  {
   "cell_type": "code",
   "execution_count": 29,
   "metadata": {},
   "outputs": [],
   "source": [
    "Q = np.array(Q)"
   ]
  },
  {
   "cell_type": "code",
   "execution_count": 34,
   "metadata": {},
   "outputs": [],
   "source": [
    "q = Q.mean(axis = 0)"
   ]
  },
  {
   "cell_type": "code",
   "execution_count": 35,
   "metadata": {},
   "outputs": [
    {
     "data": {
      "text/plain": [
       "array([[0, 1],\n",
       "       [1, 1],\n",
       "       [2, 1]])"
      ]
     },
     "execution_count": 35,
     "metadata": {},
     "output_type": "execute_result"
    }
   ],
   "source": [
    "Q"
   ]
  },
  {
   "cell_type": "code",
   "execution_count": 36,
   "metadata": {},
   "outputs": [
    {
     "data": {
      "text/plain": [
       "array([1., 1.])"
      ]
     },
     "execution_count": 36,
     "metadata": {},
     "output_type": "execute_result"
    }
   ],
   "source": [
    "q"
   ]
  },
  {
   "cell_type": "code",
   "execution_count": 37,
   "metadata": {},
   "outputs": [
    {
     "data": {
      "text/plain": [
       "array([0., 1.])"
      ]
     },
     "execution_count": 37,
     "metadata": {},
     "output_type": "execute_result"
    }
   ],
   "source": [
    "q - c"
   ]
  },
  {
   "cell_type": "code",
   "execution_count": 38,
   "metadata": {},
   "outputs": [],
   "source": [
    "N = P+(q-c)"
   ]
  },
  {
   "cell_type": "code",
   "execution_count": 39,
   "metadata": {},
   "outputs": [
    {
     "data": {
      "text/plain": [
       "array([[0., 1.],\n",
       "       [1., 1.],\n",
       "       [2., 1.]])"
      ]
     },
     "execution_count": 39,
     "metadata": {},
     "output_type": "execute_result"
    }
   ],
   "source": [
    "N"
   ]
  },
  {
   "cell_type": "code",
   "execution_count": 40,
   "metadata": {},
   "outputs": [],
   "source": [
    "P = N\n"
   ]
  },
  {
   "cell_type": "code",
   "execution_count": 42,
   "metadata": {},
   "outputs": [],
   "source": [
    "U = kabsch(P,Q)"
   ]
  },
  {
   "cell_type": "code",
   "execution_count": 43,
   "metadata": {},
   "outputs": [
    {
     "data": {
      "text/plain": [
       "array([[ 1.00000000e+00, -2.47258163e-16],\n",
       "       [-1.16150609e-17,  1.00000000e+00]])"
      ]
     },
     "execution_count": 43,
     "metadata": {},
     "output_type": "execute_result"
    }
   ],
   "source": [
    "U"
   ]
  },
  {
   "cell_type": "code",
   "execution_count": 44,
   "metadata": {},
   "outputs": [
    {
     "ename": "AttributeError",
     "evalue": "module 'numpy' has no attribute 'flatten'",
     "output_type": "error",
     "traceback": [
      "\u001b[0;31m---------------------------------------------------------------------------\u001b[0m",
      "\u001b[0;31mAttributeError\u001b[0m                            Traceback (most recent call last)",
      "\u001b[0;32m<ipython-input-44-72a012bf3196>\u001b[0m in \u001b[0;36m<module>\u001b[0;34m\u001b[0m\n\u001b[0;32m----> 1\u001b[0;31m \u001b[0mnp\u001b[0m\u001b[0;34m.\u001b[0m\u001b[0mflatten\u001b[0m\u001b[0;34m(\u001b[0m\u001b[0mP\u001b[0m\u001b[0;34m)\u001b[0m\u001b[0;34m\u001b[0m\u001b[0;34m\u001b[0m\u001b[0m\n\u001b[0m",
      "\u001b[0;31mAttributeError\u001b[0m: module 'numpy' has no attribute 'flatten'"
     ]
    }
   ],
   "source": [
    "np.flatten(P)"
   ]
  },
  {
   "cell_type": "code",
   "execution_count": 56,
   "metadata": {},
   "outputs": [],
   "source": [
    "in_folder = \"SI/DockingResults/Interface/LigandsOut_0/Ligands/\"\n",
    "out_folder = \"SI/DockingResults/Interface/LigandsOut_0/Ligands_pdb/\"\n",
    "temp_folder = \"SI/DockingInput/temp/\"\n",
    "\n",
    "in_folder_bef = \"SI/DockingInput/Ligands/\"\n",
    "out_folder_bef = \"SI/DockingInput/Ligands_pdb/\"\n",
    "temp_folder_bef = \"SI/DockingInput/temp/\""
   ]
  },
  {
   "cell_type": "code",
   "execution_count": 51,
   "metadata": {},
   "outputs": [
    {
     "name": "stderr",
     "output_type": "stream",
     "text": [
      "100%|██████████| 8574/8574 [03:54<00:00, 36.56it/s]\n"
     ]
    }
   ],
   "source": [
    "for file in tqdm(os.listdir(in_folder)):\n",
    "    os.system(\"babel -ipdbqt \"+ in_folder+file + \" -opdb \"+out_folder+file[:-2])"
   ]
  },
  {
   "cell_type": "code",
   "execution_count": 57,
   "metadata": {},
   "outputs": [],
   "source": [
    "t = md.load_pdb(out_folder_bef+\"Lig100.pdb\")"
   ]
  },
  {
   "cell_type": "code",
   "execution_count": 58,
   "metadata": {},
   "outputs": [
    {
     "data": {
      "text/plain": [
       "array([[ 0.1523, -0.1268,  0.0917],\n",
       "       [ 0.0504, -0.0947,  0.011 ],\n",
       "       [ 0.0984, -0.3134, -0.0254],\n",
       "       [-0.094 , -0.2035, -0.1595],\n",
       "       [ 0.1846, -0.2586,  0.0727],\n",
       "       [ 0.0137, -0.2056, -0.0627],\n",
       "       [ 0.1022, -0.4702, -0.0791],\n",
       "       [ 0.2585, -0.3074,  0.1219]], dtype=float32)"
      ]
     },
     "execution_count": 58,
     "metadata": {},
     "output_type": "execute_result"
    }
   ],
   "source": [
    "t.xyz[0]"
   ]
  },
  {
   "cell_type": "code",
   "execution_count": 65,
   "metadata": {},
   "outputs": [],
   "source": [
    "s = md.load_pdb(out_folder+\"Lig100.pdb\", frame=1)"
   ]
  },
  {
   "cell_type": "code",
   "execution_count": 66,
   "metadata": {},
   "outputs": [
    {
     "data": {
      "text/plain": [
       "array([[-2.950e-01, -1.625e-01,  6.150e-02],\n",
       "       [-3.803e-01, -2.654e-01,  6.790e-02],\n",
       "       [-4.704e-01, -9.600e-02,  1.890e-01],\n",
       "       [-6.000e-01, -3.195e-01,  1.708e-01],\n",
       "       [-3.457e-01, -5.770e-02,  1.337e-01],\n",
       "       [-4.894e-01, -2.297e-01,  1.448e-01],\n",
       "       [-5.667e-01,  3.000e-04,  2.834e-01],\n",
       "       [-3.002e-01,  3.210e-02,  1.446e-01]], dtype=float32)"
      ]
     },
     "execution_count": 66,
     "metadata": {},
     "output_type": "execute_result"
    }
   ],
   "source": [
    "s.xyz[0]"
   ]
  },
  {
   "cell_type": "code",
   "execution_count": 64,
   "metadata": {},
   "outputs": [
    {
     "name": "stderr",
     "output_type": "stream",
     "text": [
      "100%|██████████| 8574/8574 [01:32<00:00, 93.15it/s]\n"
     ]
    }
   ],
   "source": [
    "for file in tqdm(os.listdir(out_folder)):\n",
    "    os.system(\"sed -i '/MODEL   /d' \"+out_folder+file)"
   ]
  },
  {
   "cell_type": "code",
   "execution_count": 72,
   "metadata": {},
   "outputs": [],
   "source": [
    "mol = load_molecule(out_folder_bef+\"Lig100.pdb\")"
   ]
  },
  {
   "cell_type": "code",
   "execution_count": 81,
   "metadata": {},
   "outputs": [],
   "source": [
    "mol = Chem.MolFromPDBFile(out_folder_bef+\"Lig1000.pdb\")"
   ]
  },
  {
   "cell_type": "code",
   "execution_count": 82,
   "metadata": {},
   "outputs": [],
   "source": [
    "p = P()\n",
    "p.load_from_mol(mol)"
   ]
  },
  {
   "cell_type": "code",
   "execution_count": 85,
   "metadata": {},
   "outputs": [],
   "source": [
    "b = p.get_fp(min_features=4, max_features=4, nbits=2048, activate_bits=2)\n"
   ]
  },
  {
   "cell_type": "code",
   "execution_count": 86,
   "metadata": {},
   "outputs": [
    {
     "name": "stdout",
     "output_type": "stream",
     "text": [
      "{1280, 1666, 1538, 642, 1655, 1803, 1548, 1296, 145, 1426, 400, 1175, 544, 417, 805, 1831, 1576, 1065, 1578, 811, 1452, 939, 1577, 1072, 50, 434, 1079, 1594, 1212, 63, 964, 582, 70, 1224, 1352, 460, 1997, 1998, 1486, 1741, 465, 83, 2004, 340, 1238, 1620, 730, 1242, 2012, 987, 1631, 95, 482, 1635, 357, 488, 232, 882, 1652, 887, 376, 761, 1530, 1533, 1790, 1023}\n"
     ]
    }
   ],
   "source": [
    "print(b)"
   ]
  },
  {
   "cell_type": "code",
   "execution_count": 96,
   "metadata": {},
   "outputs": [],
   "source": [
    " Final_coords = md.load_pdb(out_folder+\"Lig8530.pdb\", frame = 0)"
   ]
  },
  {
   "cell_type": "code",
   "execution_count": 97,
   "metadata": {},
   "outputs": [],
   "source": [
    "a = np.array([[1,2],[3,4]])"
   ]
  },
  {
   "cell_type": "code",
   "execution_count": 99,
   "metadata": {},
   "outputs": [],
   "source": [
    "x = np.array([5,6])"
   ]
  },
  {
   "cell_type": "code",
   "execution_count": 100,
   "metadata": {},
   "outputs": [],
   "source": [
    "y = np.ndarray.flatten(a)"
   ]
  },
  {
   "cell_type": "code",
   "execution_count": 101,
   "metadata": {},
   "outputs": [
    {
     "data": {
      "text/plain": [
       "array([1, 2, 3, 4])"
      ]
     },
     "execution_count": 101,
     "metadata": {},
     "output_type": "execute_result"
    }
   ],
   "source": [
    "y"
   ]
  },
  {
   "cell_type": "code",
   "execution_count": 104,
   "metadata": {},
   "outputs": [
    {
     "data": {
      "text/plain": [
       "array([5, 6, 1, 2, 3, 4])"
      ]
     },
     "execution_count": 104,
     "metadata": {},
     "output_type": "execute_result"
    }
   ],
   "source": [
    "np.concatenate([x,y])"
   ]
  },
  {
   "cell_type": "code",
   "execution_count": 103,
   "metadata": {},
   "outputs": [
    {
     "data": {
      "text/plain": [
       "array([5, 6])"
      ]
     },
     "execution_count": 103,
     "metadata": {},
     "output_type": "execute_result"
    }
   ],
   "source": [
    "x"
   ]
  },
  {
   "cell_type": "code",
   "execution_count": 105,
   "metadata": {},
   "outputs": [
    {
     "name": "stdout",
     "output_type": "stream",
     "text": [
      "5\n"
     ]
    }
   ],
   "source": [
    "try:\n",
    "    x = 5\n",
    "except:\n",
    "    print(\"la\")\n",
    "print(x)"
   ]
  },
  {
   "cell_type": "code",
   "execution_count": null,
   "metadata": {},
   "outputs": [],
   "source": []
  }
 ],
 "metadata": {
  "kernelspec": {
   "display_name": "Python [conda env:ml_project] *",
   "language": "python",
   "name": "conda-env-ml_project-py"
  },
  "language_info": {
   "codemirror_mode": {
    "name": "ipython",
    "version": 3
   },
   "file_extension": ".py",
   "mimetype": "text/x-python",
   "name": "python",
   "nbconvert_exporter": "python",
   "pygments_lexer": "ipython3",
   "version": "3.6.10"
  }
 },
 "nbformat": 4,
 "nbformat_minor": 4
}
